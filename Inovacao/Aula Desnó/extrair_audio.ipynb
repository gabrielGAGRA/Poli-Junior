{
 "cells": [
  {
   "cell_type": "code",
   "execution_count": null,
   "id": "12f5872f",
   "metadata": {},
   "outputs": [],
   "source": [
    "import moviepy as mp"
   ]
  },
  {
   "cell_type": "code",
   "execution_count": null,
   "id": "ce947915",
   "metadata": {},
   "outputs": [],
   "source": [
    "filename = \"Gravação Workshop Desnó.mov\""
   ]
  },
  {
   "cell_type": "code",
   "execution_count": null,
   "id": "d78258cf",
   "metadata": {},
   "outputs": [],
   "source": [
    "# converter de mp4 para mp3\n",
    "clip = mp.VideoFileClip(filename)\n",
    "clip.audio.write_audiofile(\"./audio.mp3\")"
   ]
  },
  {
   "cell_type": "code",
   "execution_count": null,
   "id": "bc194e7d",
   "metadata": {},
   "outputs": [],
   "source": [
    "# Cell 4: Transcription setup\n",
    "import multiprocessing\n",
    "import platform\n",
    "import os\n",
    "\n",
    "# Prevent system sleep during processing (Windows)\n",
    "try:\n",
    "    if platform.system() == \"Windows\":\n",
    "        import ctypes\n",
    "\n",
    "        # ES_CONTINUOUS | ES_SYSTEM_REQUIRED\n",
    "        ctypes.windll.kernel32.SetThreadExecutionState(0x80000002)\n",
    "        print(\"Sleep prevention enabled\")\n",
    "except Exception as e:\n",
    "    print(f\"Failed to enable sleep prevention: {e}\")\n",
    "\n",
    "# File settings\n",
    "audio_file = \"audio.mp3\"  # Using existing audio file\n",
    "\n",
    "# Determine optimal CPU thread count (leave one for system)\n",
    "cpu_threads = max(1, multiprocessing.cpu_count() - 1)\n",
    "print(f\"Using {cpu_threads} CPU threads\")\n",
    "\n",
    "# Set environment variables to optimize Intel CPU performance\n",
    "os.environ[\"OMP_NUM_THREADS\"] = str(cpu_threads)\n",
    "os.environ[\"MKL_NUM_THREADS\"] = str(cpu_threads)\n",
    "os.environ[\"NUMEXPR_NUM_THREADS\"] = str(cpu_threads)\n",
    "os.environ[\"OPENBLAS_NUM_THREADS\"] = str(cpu_threads)\n",
    "os.environ[\"VECLIB_MAXIMUM_THREADS\"] = str(cpu_threads)\n",
    "os.environ[\"NUMBA_NUM_THREADS\"] = str(cpu_threads)"
   ]
  },
  {
   "cell_type": "code",
   "execution_count": null,
   "id": "e8a42479",
   "metadata": {},
   "outputs": [],
   "source": [
    "try:\n",
    "    import openvino as ov\n",
    "\n",
    "    ov_core = ov.Core()\n",
    "    intel_devices = [device for device in ov_core.available_devices if \"GPU\" in device]\n",
    "\n",
    "    if intel_devices:\n",
    "        print(f\"Intel GPU available: {intel_devices[0]}\")\n",
    "        # Set Intel GPU optimization variables\n",
    "        os.environ[\"OPENVINO_DEVICE\"] = intel_devices[0]\n",
    "        # For newer versions of OpenVINO:\n",
    "        os.environ[\"OPENVINO_THREADING\"] = \"TBB\"\n",
    "        os.environ[\"OPENVINO_TBB_NUM_THREADS\"] = str(cpu_threads)\n",
    "except ImportError:\n",
    "    print(\"OpenVINO not installed, using CPU only\")"
   ]
  },
  {
   "cell_type": "code",
   "execution_count": null,
   "id": "9e7b3928",
   "metadata": {},
   "outputs": [],
   "source": [
    "audio_file = os.path.abspath(\"audio.mp3\")"
   ]
  },
  {
   "cell_type": "code",
   "execution_count": null,
   "id": "9847d5d1",
   "metadata": {},
   "outputs": [
    {
     "name": "stdout",
     "output_type": "stream",
     "text": [
      "Sleep prevention enabled\n",
      "Using 21 CPU threads\n",
      "Starting transcription...\n"
     ]
    },
    {
     "name": "stderr",
     "output_type": "stream",
     "text": [
      "100%|█████████▉| 5417.080000000003/5438.68 [34:47<00:08,  2.53seconds/s] c:\\Users\\gabri\\Documents\\PROJETOS\\PY\\PJ\\Comercial\\Desno\\.venv\\Lib\\site-packages\\tqdm\\std.py:636: TqdmWarning: clamping frac to range [0, 1]\n",
      "  full_bar = Bar(frac,\n",
      "100%|██████████| 5438.680000000003/5438.68 [34:56<00:00,  2.59seconds/s]"
     ]
    },
    {
     "name": "stdout",
     "output_type": "stream",
     "text": [
      "Sleep settings restored\n"
     ]
    },
    {
     "name": "stderr",
     "output_type": "stream",
     "text": [
      "\n"
     ]
    }
   ],
   "source": [
    "import os\n",
    "import platform\n",
    "import multiprocessing\n",
    "import ctypes\n",
    "from faster_whisper import WhisperModel\n",
    "\n",
    "try:\n",
    "    # ES_CONTINUOUS | ES_SYSTEM_REQUIRED\n",
    "    ctypes.windll.kernel32.SetThreadExecutionState(0x80000002)\n",
    "    print(\"Sleep prevention enabled\")\n",
    "except Exception as e:\n",
    "    print(f\"Failed to enable sleep prevention: {e}\")\n",
    "\n",
    "audio_file = \"audio.mp3\"\n",
    "\n",
    "cpu_threads = max(1, multiprocessing.cpu_count() - 1)\n",
    "print(f\"Using {cpu_threads} CPU threads\")\n",
    "\n",
    "os.environ[\"OMP_NUM_THREADS\"] = str(cpu_threads)\n",
    "os.environ[\"MKL_NUM_THREADS\"] = str(cpu_threads)\n",
    "os.environ[\"NUMEXPR_NUM_THREADS\"] = str(cpu_threads)\n",
    "os.environ[\"OPENBLAS_NUM_THREADS\"] = str(cpu_threads)\n",
    "os.environ[\"VECLIB_MAXIMUM_THREADS\"] = str(cpu_threads)\n",
    "os.environ[\"NUMBA_NUM_THREADS\"] = str(cpu_threads)\n",
    "\n",
    "\n",
    "model_size = \"small\"  # Choose from 'tiny', 'base', 'small', 'medium', 'large'\n",
    "model = WhisperModel(model_size, device=\"cpu\", compute_type=\"int8\")\n",
    "\n",
    "print(\"Starting transcription...\")\n",
    "\n",
    "segments, info = model.transcribe(\n",
    "    audio_file,\n",
    "    language=\"pt\",\n",
    "    task=\"transcribe\",\n",
    "    word_timestamps=True,  # Include word-level timestamps\n",
    "    log_progress=True,  # Set to True if you want to track progress during transcription\n",
    ")\n",
    "\n",
    "output_file = os.path.join(\n",
    "    os.getcwd(), \"transcription.txt\"\n",
    ") \n",
    "with open(output_file, \"w\", encoding=\"utf-8\") as f:\n",
    "    f.write(\" \".join([segment.text for segment in segments]))  # Save transcribed text\n",
    "\n",
    "try:\n",
    "    ctypes.windll.kernel32.SetThreadExecutionState(0x80000000)  # ES_CONTINUOUS only\n",
    "    print(\"Sleep settings restored\")\n",
    "except Exception as e:\n",
    "    print(f\"Failed to restore sleep settings: {e}\")"
   ]
  }
 ],
 "metadata": {
  "kernelspec": {
   "display_name": ".venv",
   "language": "python",
   "name": "python3"
  },
  "language_info": {
   "codemirror_mode": {
    "name": "ipython",
    "version": 3
   },
   "file_extension": ".py",
   "mimetype": "text/x-python",
   "name": "python",
   "nbconvert_exporter": "python",
   "pygments_lexer": "ipython3",
   "version": "3.12.6"
  }
 },
 "nbformat": 4,
 "nbformat_minor": 5
}
