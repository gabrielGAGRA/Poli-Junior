{
 "cells": [
  {
   "cell_type": "code",
   "execution_count": 9,
   "metadata": {},
   "outputs": [],
   "source": [
    "import pandas as pd"
   ]
  },
  {
   "cell_type": "markdown",
   "metadata": {},
   "source": [
    "<h2> <b> BASE de ENTRADAS </b> <h2>"
   ]
  },
  {
   "cell_type": "markdown",
   "metadata": {},
   "source": [
    "### Leitura e Compreensão de colunas"
   ]
  },
  {
   "cell_type": "code",
   "execution_count": null,
   "metadata": {},
   "outputs": [],
   "source": [
    "df_entrada = pd.read_csv(\"C:\\\\Users\\\\jvmm1\\\\OneDrive\\\\Documentos\\\\PJ\\\\base_entradas_202407142340.csv\")\n",
    "print(df_entrada.columns)"
   ]
  },
  {
   "cell_type": "code",
   "execution_count": null,
   "metadata": {},
   "outputs": [],
   "source": [
    "df_entrada[['ind_oper', 'cod_pais', 'cod_mod', 'cod_sit', 'num_doc', 'num_item','ind_mov','vl_bc_icms_st', 'vl_icms_st', 'aliq_efetiva_icms_st','vl_ipi', 'aliq_efetiva_ipi', 'cfop_cst', 'row_index', 'year','day', 'hour', 'minute','rown']].describe()"
   ]
  },
  {
   "cell_type": "code",
   "execution_count": null,
   "metadata": {},
   "outputs": [],
   "source": [
    "df_entrada = df_entrada[[col for col in df_entrada if df_entrada[col].nunique() > 1]] # retirando colunas para o qual os valores são apenas 1, para compreensão da variação dos dados\n",
    "df_entrada"
   ]
  },
  {
   "cell_type": "code",
   "execution_count": null,
   "metadata": {},
   "outputs": [],
   "source": [
    "df_entrada[[\"id_cnpj\",\"cnpj\",\"fornecedor\"]].head()\n",
    "df_entrada[\"id_dt_fin\"] = pd.to_datetime(df_entrada[\"id_dt_fin\"])\n",
    "df_entrada[\"id_dt_fin\"]"
   ]
  },
  {
   "cell_type": "markdown",
   "metadata": {},
   "source": [
    "Observando as relações de cnpjs, verifica-se o segundo como mais relevante (linkado ao fornecedor). Agora transformemos alguns dados de id e intervalos de tempo para facilitar visualização."
   ]
  },
  {
   "cell_type": "code",
   "execution_count": null,
   "metadata": {},
   "outputs": [],
   "source": [
    "df_entrada[\"month\"] = df_entrada[\"id_dt_fin\"].dt.month\n",
    "df_entrada.drop([\"id_dt_ini\",\"id_dt_fin\"],axis=1,inplace=True)\n",
    "df_entrada.head()"
   ]
  },
  {
   "cell_type": "code",
   "execution_count": null,
   "metadata": {},
   "outputs": [],
   "source": [
    "import re\n",
    "df_cnpj = pd.read_csv(\"cnpjs.csv\")\n",
    "df_entrada[\"cnpj\"].isna().sum()\n",
    "df_cnpj[\"fornecedor\"] = df_cnpj[\"branch_name\"]\n",
    "df_entrada = pd.merge(df_entrada, df_cnpj[['fornecedor', 'cnpj']], left_on='fornecedor', right_on='fornecedor', how='left')\n",
    "df_entrada[\"cnpj\"] = df_entrada['cnpj_x'].fillna(df_entrada['cnpj_y'])"
   ]
  },
  {
   "cell_type": "code",
   "execution_count": null,
   "metadata": {},
   "outputs": [],
   "source": [
    "df_entrada.drop([\"cnpj_x\",\"cnpj_y\"],axis=1,inplace=True)\n",
    "df_entrada.head()"
   ]
  },
  {
   "cell_type": "code",
   "execution_count": null,
   "metadata": {},
   "outputs": [],
   "source": [
    "def format_date(date_str):\n",
    "    day = date_str[:-6]\n",
    "    month = date_str[-6:-4]\n",
    "    year = date_str[-4:]\n",
    "    return f\"{day}-{month}-{year}\"\n",
    "\n",
    "# Apply the function to the column\n",
    "df_entrada['dt_e_s'] = pd.to_datetime(df_entrada['dt_e_s'].astype(str).apply(format_date),dayfirst=True)\n",
    "df_entrada['dt_e_s']"
   ]
  },
  {
   "cell_type": "markdown",
   "metadata": {},
   "source": [
    "Também transformando o cnpj em algo padronizado de acordo com o formato padrão."
   ]
  },
  {
   "cell_type": "code",
   "execution_count": null,
   "metadata": {},
   "outputs": [],
   "source": [
    "df_entrada[\"cnpj\"] = df_entrada[\"cnpj\"].astype(\"str\")\n",
    "def format_cnpj(cnpj_str):\n",
    "    # Remove all non-numeric characters\n",
    "    digits = ''.join(filter(str.isdigit, cnpj_str))\n",
    "    # Format the string into the CNPJ pattern\n",
    "    formatted = f\"{digits[:2]}.{digits[2:5]}.{digits[5:8]}/{digits[8:12]}-{digits[12:14]}\"\n",
    "    return formatted\n",
    "\n",
    "df_entrada[\"cnpj\"] = df_entrada[\"cnpj\"].apply(format_cnpj)\n",
    "df_entrada.head()"
   ]
  },
  {
   "cell_type": "code",
   "execution_count": null,
   "metadata": {},
   "outputs": [],
   "source": [
    "df_entrada = df_entrada.drop(\"nome_uf_dest\",axis=1)\n",
    "df_entrada.columns # verificar colunas que permaneceram"
   ]
  },
  {
   "cell_type": "markdown",
   "metadata": {},
   "source": [
    "Agora, vale fazer análise de o que cada coluna significaria para reunião dos dados que viriam a ser mais importantes em geral."
   ]
  },
  {
   "cell_type": "code",
   "execution_count": null,
   "metadata": {},
   "outputs": [],
   "source": [
    "df_entrada[[\"cod_sit\",\"cod_sit_doc\"]].value_counts()\n",
    "# cod_sit_doc mais importante por apresentar descrição\n",
    "df_entrada[\"ser\"] # ser indica série do doc fiscal\n",
    "df_entrada[\"num_doc\"] # indica o número do documento fiscal\n",
    "df_entrada[\"chv_nfe\"] # indica chave da nota fiscal eletrônica\n",
    "df_entrada[\"chave_check\"] #--> criptografia\n",
    "df_entrada[\"dt_doc\"] = pd.to_datetime(df_entrada[\"dt_doc\"])\n",
    "df_entrada[[\"month\",\"dt_doc\"]].value_counts()"
   ]
  },
  {
   "cell_type": "code",
   "execution_count": null,
   "metadata": {},
   "outputs": [],
   "source": [
    "df_entrada[df_entrada[\"dt_doc\"].dt.month != df_entrada[\"month\"]][[\"dt_doc\",\"month\"]]\n",
    "# os dts de emissão de documento podem ser anteriores ao fim, mas nunca posteriores"
   ]
  },
  {
   "cell_type": "code",
   "execution_count": null,
   "metadata": {},
   "outputs": [],
   "source": [
    "(df_entrada[\"dt_e_s\"].dt.month == df_entrada[\"month\"]).value_counts() # datas de entrada ou saída sempre no mês respectivo\n",
    "df_entrada[\"reg_origem_entrada\"].value_counts() # registro da origem da entrada --> tipos C170 e C190 ligados a C100\n",
    "# vários códigos e valores de impostos\n",
    "df_entrada[\"num_item\"] # número do item sequenciado\n",
    "df_entrada[\"cod_item\"] # código item\n",
    "df_entrada[[\"descr_compl\",\"cod_item\"]].value_counts() # código e descrição do item estão totalmente ligados\n",
    "df_entrada[\"ncm\"].value_counts() # Mercosul\n",
    "df_entrada[\"sub_classificacao_gerencial\"].value_counts() # descrições mais detalhadas\n",
    "df_entrada[\"classificacao_gerencial\"].value_counts() # classificação dos itens comercializados pelas notas fiscais"
   ]
  },
  {
   "cell_type": "code",
   "execution_count": null,
   "metadata": {},
   "outputs": [],
   "source": [
    "df_entrada[[\"qtd\",\"unid\",\"vl_item\",\"vl_desc\",\"classificacao_gerencial\"]] # unid como código de unidade de medida"
   ]
  },
  {
   "cell_type": "code",
   "execution_count": null,
   "metadata": {},
   "outputs": [],
   "source": [
    "df_entrada[\"cst_icms\"].value_counts() #Indica código da nota fiscal com código de icms\n",
    "df_entrada[[\"cfop\",\"cfop_cst\"]].value_counts() # Código Fiscal de Operação e Prestação\n",
    "df_entrada['tipo'].value_counts() # tipo da localização\n",
    "df_entrada['origem'].value_counts() # tipo de transação em relação à localização\n",
    "df_entrada['cod_nat'].value_counts() # natureza da operação"
   ]
  },
  {
   "cell_type": "code",
   "execution_count": null,
   "metadata": {},
   "outputs": [],
   "source": [
    "df_entrada[['analise_credito', 'row_index', 'ncm_abrev',\n",
    "       'cod_ncm_desc', 'cod_cst_desc']]"
   ]
  },
  {
   "cell_type": "code",
   "execution_count": null,
   "metadata": {},
   "outputs": [],
   "source": [
    "df_entrada.columns"
   ]
  },
  {
   "cell_type": "markdown",
   "metadata": {},
   "source": [
    "Refletindo sobre as colunas de classificação ou objetos que podem ser mais importantes de acordo com a teoria de tributação e impostos, verificamos aqueles relacionados aos elementos centrais que regem as notas fiscais:\n",
    "<li> <b> Emitente:</b> Informações de fornecedor (\"fornecedor\"), CNPJ (\"cnpj\") e características do emitente (\"ind_emit\");\n",
    "<li> <b> Comprador:</b> Informações de cnpj do comprador (\"id_cnpj\");\n",
    "<li> <b> Descrição:</b> Diversos códigos dizem respeito ao tipo de comercialização, item e demais classificações, mas destaca-se a classificação (\"classificacao_gerencial\" e \"cod_ncm_desc\"), descrição (\"descr_compl\") e códigos de tipo de aquisição e entrada(\"reg_origem_entrada\");\n",
    "<li> <b> Dados de localização e tempo:</b> Para cálculos, também é relevante o estado (\"uf\") ou o tipo de entrada (se é nacional ou internacional, \"cst_desc\"), além de dados de mês, dia e ano; <br>\n",
    "Além disso, diversos códigos, como \"cfop\" e \"ncm\", relativos aos códigos gerais e de Mercosul para fins legais, e \"chv_nfe\" para identificar nota fiscal eletrônica."
   ]
  },
  {
   "cell_type": "markdown",
   "metadata": {},
   "source": [
    "### Análise Univariada de Variáveis numéricas"
   ]
  },
  {
   "cell_type": "markdown",
   "metadata": {},
   "source": [
    "Agora, sabendo o significado das colunas e quais podem ser mais bem utilizadas, podemos partir pras variáveis numéricas e ver como elas se distribuem. Algumas apresentam valores únicos e nulos, o que fez essas colunas serem desconsideradas para verificar distribuição, mas podem ser relevantes para pesquisas e construção do modelo.\n",
    "\n",
    "As colunas que foram desconsideradas seriam 'ind_oper', 'cod_pais', 'cod_mod', 'cod_sit', 'num_doc', 'num_item','ind_mov','vl_bc_icms_st', 'vl_icms_st', 'aliq_efetiva_icms_st','vl_ipi', 'aliq_efetiva_ipi', 'cfop_cst', 'row_index', 'year','day', 'hour', 'minute' e 'rown'. Algumas são inúteis em contexto geral, por serem ids totais que não refletem informações relevantes, enquantos outras podem ser relevantes em respostas como ano, valor de códigos específicos a serem pesquisados ou  valores de alíquotas (que muitas vezes são fixos). Os valores de substituição tributária portanto, sendo nulos, foram desconsiderados."
   ]
  },
  {
   "cell_type": "code",
   "execution_count": null,
   "metadata": {},
   "outputs": [],
   "source": [
    "df_entrada[\"month_doc\"] = df_entrada[\"dt_doc\"].dt.month\n",
    "df_entrada.drop(\"dt_doc\",axis=1,inplace=True)\n",
    "df_entrada[\"month_e_s\"] = df_entrada[\"dt_e_s\"].dt.month\n",
    "df_entrada.drop(\"dt_e_s\",axis=1,inplace=True)\n",
    "df_entrada.describe().columns"
   ]
  },
  {
   "cell_type": "code",
   "execution_count": null,
   "metadata": {},
   "outputs": [],
   "source": [
    "df_entrada.describe()"
   ]
  },
  {
   "cell_type": "code",
   "execution_count": null,
   "metadata": {},
   "outputs": [],
   "source": [
    "import plotly.express as px\n",
    "\n",
    "# Specifying the columns of interest\n",
    "columns = ['qtd', 'vl_item', 'vl_desc', 'cst_icms', 'vl_bc_icms', 'vl_icms', 'aliq_efetiva_icms',\n",
    "       'vl_bc_ipi','month', 'month_doc',\n",
    "       'month_e_s']\n",
    "\n",
    "# Creating individual boxplots for each column\n",
    "for column in columns:\n",
    "    fig = px.box(df_entrada, y=column, title=f'Boxplot for {column}')\n",
    "    fig.show()\n"
   ]
  },
  {
   "cell_type": "markdown",
   "metadata": {},
   "source": [
    "A partir dos boxplots, podemos tirar algumas conclusões sobre as distribuições de variáveis numéricas que são contínuas. Apenas \"num_item\" significa uma identificação, uma vez que foram desconsiderados os ids para consideração de distribuição e compreensão dos valores existentes. Seguem observações:\n",
    "<li> <b> Meses: </b> as datas de início, fim e entrada seguem distribuição bastante equalitária, concentrando de maneira pequena nos meses iniciais do ano. \n",
    "<li> <b> Valores: </b> Dos mais de 470 mil registros e notas fiscais registradas, observa-se uma grande distribuição que vai de 0 a 120 mil reais, ainda que a grande maioria esteja concentrada em menores valores. Isso se repete nas bases de cálculo de icms (único imposto presente já que são entradas de comércio) e no próprio valor do icms, que varia de acordo com a alíquota efetiva apresentada (que também varia devido aos estados onde estão presentes/de origem).\n",
    "<li> Ainda sobre valores, os descontos são muitas vezes nulos, mas existem. As quantidades de itens de cada classificação gerencial também são variáveis e podem ser utilizados para cálculo.\n",
    "<br><br>\n",
    "Logo todos esses dados são relevantes para a análise."
   ]
  },
  {
   "cell_type": "markdown",
   "metadata": {},
   "source": [
    "<h2> <b> BASE de APURAÇÃO de AJUSTE </b> <h2>"
   ]
  },
  {
   "cell_type": "code",
   "execution_count": null,
   "metadata": {},
   "outputs": [],
   "source": [
    "df_ajuste = pd.read_csv(\"apuracao_ajuste_202407142338.csv\")\n",
    "df_ajuste.drop(\"rown\",axis=1,inplace=True)\n",
    "df_ajuste"
   ]
  },
  {
   "cell_type": "code",
   "execution_count": null,
   "metadata": {},
   "outputs": [],
   "source": [
    "display(df_ajuste[\"uf\"].value_counts())\n",
    "df_ajuste[\"uf\"].isna().sum()"
   ]
  },
  {
   "cell_type": "code",
   "execution_count": null,
   "metadata": {},
   "outputs": [],
   "source": [
    "df_ajuste[\"origem_ajuste\"].value_counts()"
   ]
  },
  {
   "cell_type": "markdown",
   "metadata": {},
   "source": [
    "<h2> <b> BASE de APURAÇÃO de ICMS </b> <h2>"
   ]
  },
  {
   "cell_type": "code",
   "execution_count": null,
   "metadata": {},
   "outputs": [],
   "source": [
    "df_icms = pd.read_csv(\"apuracao_icms_202407142340.csv\")\n",
    "df_icms"
   ]
  },
  {
   "cell_type": "code",
   "execution_count": null,
   "metadata": {},
   "outputs": [],
   "source": [
    "df_icms.describe()"
   ]
  },
  {
   "cell_type": "markdown",
   "metadata": {},
   "source": [
    "<h2> <b> BASE de APURAÇÃO de ICMS ST</b> <h2>"
   ]
  },
  {
   "cell_type": "code",
   "execution_count": null,
   "metadata": {},
   "outputs": [],
   "source": [
    "df_icms_st = pd.read_csv(\"apuracao_icms_st_202407142340.csv\")\n",
    "df_icms_st"
   ]
  },
  {
   "cell_type": "code",
   "execution_count": null,
   "metadata": {},
   "outputs": [],
   "source": [
    "df_icms_st.columns"
   ]
  },
  {
   "cell_type": "code",
   "execution_count": null,
   "metadata": {},
   "outputs": [],
   "source": [
    "df_icms_st.describe()"
   ]
  },
  {
   "cell_type": "markdown",
   "metadata": {},
   "source": [
    "<h2> <b> BASE de CNPJ</b> <h2>"
   ]
  },
  {
   "cell_type": "code",
   "execution_count": null,
   "metadata": {},
   "outputs": [],
   "source": [
    "df_cnpj = pd.read_csv(\"cnpjs.csv\")\n",
    "df_cnpj"
   ]
  },
  {
   "cell_type": "code",
   "execution_count": null,
   "metadata": {},
   "outputs": [],
   "source": [
    "df_cnpj.columns"
   ]
  },
  {
   "cell_type": "code",
   "execution_count": null,
   "metadata": {},
   "outputs": [],
   "source": [
    "df_cnpj.describe()"
   ]
  },
  {
   "cell_type": "code",
   "execution_count": null,
   "metadata": {},
   "outputs": [],
   "source": [
    "df_nfs_faltantes = pd.read_csv(\"nfs_faltantes_consolidado_202407142339.csv\")\n",
    "df_nfs_faltantes"
   ]
  },
  {
   "cell_type": "code",
   "execution_count": null,
   "metadata": {},
   "outputs": [],
   "source": [
    "df_nfs_faltantes.drop_duplicates([\"filial\",\"competencia\",\"cnpj\"])"
   ]
  },
  {
   "cell_type": "code",
   "execution_count": 32,
   "metadata": {},
   "outputs": [],
   "source": [
    "import json\n",
    "import pandas as pd\n",
    "\n",
    "# Load the JSON file containing the column mappings\n",
    "with open(r\"C:\\Users\\jvmm1\\OneDrive\\Documentos\\PJ\\NutaxProj\\Dados Taxboard - Paula Torres\\jsons\\dicionario_da_base.json\", encoding=\"utf-8\") as f:\n",
    "    data = json.load(f)\n",
    "\n",
    "# Assuming df_entrada is already defined, rename its columns using the loaded mappings\n",
    "df_entrada = df_entrada.rename(columns=data)\n",
    "\n",
    "# Now df_entrada will have its columns renamed according to the mappings in 'data'"
   ]
  },
  {
   "cell_type": "code",
   "execution_count": null,
   "metadata": {},
   "outputs": [],
   "source": [
    "df_entrada.describe().columns"
   ]
  }
 ],
 "metadata": {
  "kernelspec": {
   "display_name": "Python 3",
   "language": "python",
   "name": "python3"
  },
  "language_info": {
   "codemirror_mode": {
    "name": "ipython",
    "version": 3
   },
   "file_extension": ".py",
   "mimetype": "text/x-python",
   "name": "python",
   "nbconvert_exporter": "python",
   "pygments_lexer": "ipython3",
   "version": "3.11.9"
  }
 },
 "nbformat": 4,
 "nbformat_minor": 2
}
