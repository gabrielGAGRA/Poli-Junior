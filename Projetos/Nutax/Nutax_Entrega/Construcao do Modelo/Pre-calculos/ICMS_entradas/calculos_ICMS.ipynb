{
 "cells": [
  {
   "cell_type": "code",
   "execution_count": null,
   "metadata": {},
   "outputs": [],
   "source": [
    "import pandas as pd\n",
    "\n",
    "df = pd.DataFrame(arquivo)\n",
    "df['data'] = pd.to_datetime(df['data'])\n",
    "\n",
    "def calcular_total_por_filtros(df, **filtros):\n",
    "    df_filtrado = df.copy()\n",
    "    \n",
    "    if \"Data de início\" in filtros and filtros[\"Data de início\"] is not None:\n",
    "        df_filtrado = df_filtrado[df_filtrado['data'] >= pd.to_datetime(filtros[\"Data de início\"])]\n",
    "    if \"Data de fim\" in filtros and filtros[\"Data de fim\"] is not None:\n",
    "        df_filtrado = df_filtrado[df_filtrado['data'] <= pd.to_datetime(filtros[\"Data de fim\"])]\n",
    "    if \"Fornecedor\" in filtros and filtros[\"Fornecedor\"] is not None:\n",
    "        df_filtrado = df_filtrado[df_filtrado['Fornecedor'] == filtros[\"Fornecedor\"]]\n",
    "    if \"Valor do ICMS\" in filtros and filtros[\"Valor do ICMS\"] is not None:\n",
    "        df_filtrado = df_filtrado[df_filtrado['Valor do ICMS'] == filtros[\"Valor do ICMS\"]]\n",
    "    if \"Unidade Federativa\" in filtros and filtros[\"Unidade Federativa\"] is not None:\n",
    "        df_filtrado = df_filtrado[df_filtrado['Unidade Federativa'] == filtros[\"Unidade Federativa\"]]\n",
    "\n",
    "    total = df_filtrado['Valor do ICMS'].sum()\n",
    "    \n",
    "    return total"
   ]
  },
  {
   "cell_type": "code",
   "execution_count": 13,
   "metadata": {},
   "outputs": [
    {
     "name": "stdout",
     "output_type": "stream",
     "text": [
      "DataFrame com colunas selecionadas:   Unidade Federativa                              Fornecedor  \\\n",
      "0                 SP    TORRES COMERCIO DE CALCADOS - EIRELI   \n",
      "1                 SP    TORRES COMERCIO DE CALCADOS - EIRELI   \n",
      "2                 ES  PAULA TORRES COMERCIO DE CALCADOS LTDA   \n",
      "3                 RS                    DRARO CALCADOS LTDA.   \n",
      "4                 SP    TORRES COMERCIO DE CALCADOS - EIRELI   \n",
      "\n",
      "  Data do documento  Valor do ICMS  \n",
      "0        22/12/2023          75.24  \n",
      "1        06/01/2023         699.30  \n",
      "2        28/02/2023         314.64  \n",
      "3        04/08/2023          21.35  \n",
      "4        15/12/2023          35.82  \n",
      "DataFrame agrupado:   Unidade Federativa         Fornecedor  Ano-Mês  Valor do ICMS\n",
      "0                 AC  CLAUDEIR FERREIRA  2022-12          70.50\n",
      "1                 AC       LUANA MACIEL  2023-09          75.71\n",
      "2                 AC   Nildiceia L mota  2022-09          66.55\n",
      "3                 AL  ANA CLAUDIA NEIVA  2023-11          11.33\n",
      "4                 AL  ANA MARIA MACHADO  2023-01          22.40\n"
     ]
    }
   ],
   "source": [
    "import pandas as pd\n",
    "import json\n",
    "\n",
    "def carregar_dados_json(caminho_arquivo):\n",
    "    with open(caminho_arquivo, 'r', encoding='utf-8') as file:\n",
    "        data = json.load(file)\n",
    "    return data\n",
    "\n",
    "caminho_arquivo = r'novo-base_entradas_202407142340.json'\n",
    "dados = carregar_dados_json(caminho_arquivo)\n",
    "\n",
    "# Converter lista de dicionários em DataFrame e filtrar colunas relevantes\n",
    "df = pd.DataFrame(dados, columns=[\n",
    "    'Unidade Federativa', 'Fornecedor', 'Data do documento', 'Valor do ICMS'\n",
    "])\n",
    "\n",
    "# Converter coluna 'Data do documento' para datetime\n",
    "df['Data do documento'] = pd.to_datetime(df['Data do documento'], format='%d/%m/%Y', errors='coerce')\n",
    "df['Ano-Mês'] = df['Data do documento'].dt.to_period('M')\n",
    "\n",
    "# Agrupar dados por UF, CNPJ da empresa e Ano-Mês e somar os valores de ICMS\n",
    "grouped_df = df.groupby(['Unidade Federativa', 'Fornecedor', 'Ano-Mês']).agg({'Valor do ICMS': 'sum'}).reset_index())"
   ]
  },
  {
   "cell_type": "code",
   "execution_count": 14,
   "metadata": {},
   "outputs": [],
   "source": [
    "output_caminho_arquivo = 'calculos_entradas.json'"
   ]
  },
  {
   "cell_type": "code",
   "execution_count": 15,
   "metadata": {},
   "outputs": [
    {
     "name": "stdout",
     "output_type": "stream",
     "text": [
      "Resultados salvos em calculos_entradas.json como CSV\n"
     ]
    }
   ],
   "source": [
    "try:\n",
    "    grouped_df.to_csv(output_caminho_arquivo, index=False)\n",
    "    print(f\"Resultados salvos em {output_caminho_arquivo} como CSV\")"
   ]
  }
 ],
 "metadata": {
  "kernelspec": {
   "display_name": "Python 3",
   "language": "python",
   "name": "python3"
  },
  "language_info": {
   "codemirror_mode": {
    "name": "ipython",
    "version": 3
   },
   "file_extension": ".py",
   "mimetype": "text/x-python",
   "name": "python",
   "nbconvert_exporter": "python",
   "pygments_lexer": "ipython3",
   "version": "3.12.3"
  }
 },
 "nbformat": 4,
 "nbformat_minor": 2
}
