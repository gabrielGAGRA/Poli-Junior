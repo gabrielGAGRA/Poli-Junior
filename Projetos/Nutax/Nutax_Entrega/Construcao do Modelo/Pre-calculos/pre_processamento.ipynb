{
 "cells": [
  {
   "cell_type": "code",
   "execution_count": 94,
   "metadata": {},
   "outputs": [],
   "source": [
    "import pandas as pd"
   ]
  },
  {
   "cell_type": "code",
   "execution_count": 95,
   "metadata": {},
   "outputs": [
    {
     "data": {
      "text/plain": [
       "29088094.22"
      ]
     },
     "execution_count": 95,
     "metadata": {},
     "output_type": "execute_result"
    }
   ],
   "source": [
    "df_saida = pd.read_json(r\"Dados Taxboard - Paula Torres\\jsons\\novo-base_saidas_202407142342.json\")\n",
    "df_saida[\"Valor do ICMS\"].sum()"
   ]
  },
  {
   "cell_type": "code",
   "execution_count": 96,
   "metadata": {},
   "outputs": [],
   "source": [
    "def groupby_csv(arquivo):\n",
    "    df_apuracao = pd.read_json(arquivo)\n",
    "    df_apuracao\n",
    "    df_apuracao['Data de fim'] = pd.to_datetime(df_apuracao['Data de fim'], format='%d/%m/%Y', errors='coerce')\n",
    "    df_apuracao['Data de início'] = pd.to_datetime(df_apuracao['Data de início'], format='%d/%m/%Y', errors='coerce')\n",
    "    df_apuracao['Ano-Mês'] = df_apuracao['Data de fim'].dt.to_period('M')\n",
    "    df_apuracao.drop([\"Data de início\",\"Data de fim\"], axis=1,inplace=True)\n",
    "    import json\n",
    "\n",
    "    # Agrupando e somando os dados\n",
    "    df_grouped= df_apuracao.groupby(\n",
    "        by=[\"CNPJ da empresa\", \"Unidade Federativa\", \"Nome do tipo de ajuste\", \"Ano-Mês\"]\n",
    "    ).sum().drop([\"Tipo de ajuste\", \"Possui nota fiscal\", \"Origem do ajuste\"], axis=1)\n",
    "\n",
    "    df_grouped.to_csv(\"groupby_{arquivo}.csv\")"
   ]
  },
  {
   "cell_type": "code",
   "execution_count": 97,
   "metadata": {},
   "outputs": [],
   "source": [
    "ajuste = r\"Dados Taxboard - Paula Torres\\jsons\\novo-apuracao_ajuste_202407142338.json\"\n",
    "groupby_csv(ajuste)"
   ]
  },
  {
   "cell_type": "code",
   "execution_count": 98,
   "metadata": {},
   "outputs": [],
   "source": [
    "arquivo = r\"C:\\Users\\jvmm1\\OneDrive\\Documentos\\PJ\\NutaxProj\\Dados Taxboard - Paula Torres\\jsons\\novo-apuracao_icms_202407142340.json\"\n",
    "df_apuracao = pd.read_json(arquivo)\n",
    "df_apuracao\n",
    "df_apuracao['Data de fim'] = pd.to_datetime(df_apuracao['Data de fim'], format='%d/%m/%Y', errors='coerce')\n",
    "df_apuracao['Data de início'] = pd.to_datetime(df_apuracao['Data de início'], format='%d/%m/%Y', errors='coerce')\n",
    "df_apuracao['Ano-Mês'] = df_apuracao['Data de fim'].dt.to_period('M')\n",
    "df_apuracao.drop([\"Data de início\",\"Data de fim\"], axis=1,inplace=True)\n",
    "import json\n",
    "\n",
    "# Agrupando e somando os dados\n",
    "df_grouped= df_apuracao.groupby(\n",
    "    by=[\"CNPJ da empresa\", \"Registro\", \"Ano-Mês\"]\n",
    ").sum()\n",
    "\n",
    "df_grouped.to_csv(\"groupby_difal.csv\")"
   ]
  },
  {
   "cell_type": "code",
   "execution_count": 99,
   "metadata": {},
   "outputs": [],
   "source": [
    "arquivo = r\"C:\\Users\\jvmm1\\OneDrive\\Documentos\\PJ\\NutaxProj\\Dados Taxboard - Paula Torres\\jsons\\novo-apuracao_icms_202407142340.json\"\n",
    "df_apuracao = pd.read_json(arquivo)\n",
    "df_apuracao\n",
    "df_apuracao['Data de fim'] = pd.to_datetime(df_apuracao['Data de fim'], format='%d/%m/%Y', errors='coerce')\n",
    "df_apuracao['Data de início'] = pd.to_datetime(df_apuracao['Data de início'], format='%d/%m/%Y', errors='coerce')\n",
    "df_apuracao['Ano-Mês'] = df_apuracao['Data de fim'].dt.to_period('M')\n",
    "df_apuracao.drop([\"Data de início\",\"Data de fim\"], axis=1,inplace=True)\n",
    "import json\n",
    "\n",
    "# Agrupando e somando os dados\n",
    "df_grouped= df_apuracao.groupby(\n",
    "    by=[\"CNPJ da empresa\", \"Registro\", \"Ano-Mês\"]\n",
    ").sum()\n",
    "\n",
    "df_grouped.to_csv(\"groupby_icms.csv\")"
   ]
  },
  {
   "cell_type": "code",
   "execution_count": 100,
   "metadata": {},
   "outputs": [],
   "source": [
    "arquivo = r\"C:\\Users\\jvmm1\\OneDrive\\Documentos\\PJ\\NutaxProj\\Dados Taxboard - Paula Torres\\jsons\\novo-apuracao_icms_a_pagar_202407142339.json\"\n",
    "df_apuracao = pd.read_json(arquivo)\n",
    "df_apuracao\n",
    "df_apuracao['Data de fim'] = pd.to_datetime(df_apuracao['Data de fim'], format='%d/%m/%Y', errors='coerce')\n",
    "df_apuracao['Data de início'] = pd.to_datetime(df_apuracao['Data de início'], format='%d/%m/%Y', errors='coerce')\n",
    "df_apuracao['Ano-Mês'] = df_apuracao['Data de fim'].dt.to_period('M')\n",
    "df_apuracao.drop([\"Data de início\",\"Data de fim\"], axis=1,inplace=True)\n",
    "\n",
    "# Agrupando e somando os dados\n",
    "df_grouped= df_apuracao.groupby(\n",
    "    by=[\"CNPJ da empresa\", \"Registro\", \"Ano-Mês\"]\n",
    ").sum()\n",
    "\n",
    "df_grouped.to_csv(\"groupby_icms_a_pagar.csv\")"
   ]
  },
  {
   "cell_type": "code",
   "execution_count": 101,
   "metadata": {},
   "outputs": [],
   "source": [
    "arquivo = r\"C:\\Users\\jvmm1\\OneDrive\\Documentos\\PJ\\NutaxProj\\Dados Taxboard - Paula Torres\\jsons\\novo-apuracao_icms_st_202407142340.json\"\n",
    "df_apuracao = pd.read_json(arquivo)\n",
    "df_apuracao\n",
    "df_apuracao['Data de fim'] = pd.to_datetime(df_apuracao['Data de fim'], format='%d/%m/%Y', errors='coerce')\n",
    "df_apuracao['Data de início'] = pd.to_datetime(df_apuracao['Data de início'], format='%d/%m/%Y', errors='coerce')\n",
    "df_apuracao['Ano-Mês'] = df_apuracao['Data de fim'].dt.to_period('M')\n",
    "df_apuracao.drop([\"Data de início\",\"Data de fim\"], axis=1,inplace=True)\n",
    "\n",
    "# Agrupando e somando os dados\n",
    "df_grouped= df_apuracao.groupby(\n",
    "    by=[\"CNPJ da empresa\", \"Registro\", \"Ano-Mês\",\"Unidade Federativa\"]\n",
    ").sum()\n",
    "\n",
    "df_grouped.to_csv(\"groupby_icms_st.csv\")"
   ]
  },
  {
   "cell_type": "code",
   "execution_count": 122,
   "metadata": {},
   "outputs": [],
   "source": [
    "df = pd.read_json(r\"Dados Taxboard - Paula Torres\\jsons\\novo-base_saidas_202407142342.json\")"
   ]
  },
  {
   "cell_type": "code",
   "execution_count": 126,
   "metadata": {},
   "outputs": [],
   "source": [
    "import pandas as pd\n",
    "\n",
    "# Calculate the sum of numeric columns\n",
    "df_sum = df.sum(numeric_only=True)\n",
    "\n",
    "# Generate descriptive statistics\n",
    "df_description = df.describe()\n",
    "\n",
    "# Convert the sum into a DataFrame and set the label as 'sum'\n",
    "df_sum = pd.DataFrame(df_sum).transpose()\n",
    "df_sum.index = ['sum']\n",
    "\n",
    "# Concatenate the descriptive statistics and the sum row\n",
    "df_combined = pd.concat([df_description, df_sum])\n",
    "\n",
    "df_combined.to_csv(\"describe.csv\")"
   ]
  },
  {
   "cell_type": "code",
   "execution_count": 128,
   "metadata": {},
   "outputs": [],
   "source": [
    "df = pd.read_json(r\"Dados Taxboard - Paula Torres\\jsons\\novo-base_entradas_202407142340.json\")"
   ]
  },
  {
   "cell_type": "code",
   "execution_count": 129,
   "metadata": {},
   "outputs": [],
   "source": [
    "import pandas as pd\n",
    "\n",
    "# Calculate the sum of numeric columns\n",
    "df_sum = df.sum(numeric_only=True)\n",
    "\n",
    "# Generate descriptive statistics\n",
    "df_description = df.describe()\n",
    "\n",
    "# Convert the sum into a DataFrame and set the label as 'sum'\n",
    "df_sum = pd.DataFrame(df_sum).transpose()\n",
    "df_sum.index = ['sum']\n",
    "\n",
    "# Concatenate the descriptive statistics and the sum row\n",
    "df_combined = pd.concat([df_description, df_sum])\n",
    "\n",
    "df_combined.to_csv(\"describe_entradas.csv\")"
   ]
  }
 ],
 "metadata": {
  "kernelspec": {
   "display_name": "Python 3",
   "language": "python",
   "name": "python3"
  },
  "language_info": {
   "codemirror_mode": {
    "name": "ipython",
    "version": 3
   },
   "file_extension": ".py",
   "mimetype": "text/x-python",
   "name": "python",
   "nbconvert_exporter": "python",
   "pygments_lexer": "ipython3",
   "version": "3.11.9"
  }
 },
 "nbformat": 4,
 "nbformat_minor": 2
}
