{
 "cells": [
  {
   "cell_type": "code",
   "execution_count": 10,
   "metadata": {},
   "outputs": [],
   "source": [
    "import pandas as pd\n",
    "import json\n",
    "import os\n",
    "import glob\n",
    "import numpy as np"
   ]
  },
  {
   "cell_type": "code",
   "execution_count": 11,
   "metadata": {},
   "outputs": [],
   "source": [
    "atalho_csv = r'C:\\Users\\gabri\\Documents\\PROJETOS\\PY\\PJ_Code\\Nutax\\Modelo IA\\Modelo\\calculos_entradas.csv'"
   ]
  },
  {
   "cell_type": "code",
   "execution_count": 12,
   "metadata": {},
   "outputs": [],
   "source": [
    "atalho_json = r\"C:\\Users\\gabri\\Documents\\PROJETOS\\PY\\PJ_Code\\Nutax\\Modelo IA\\Modelo\\calculos_entradas.json\""
   ]
  },
  {
   "cell_type": "code",
   "execution_count": 13,
   "metadata": {},
   "outputs": [],
   "source": [
    "def csv_para_json(csv_file, json_file):\n",
    "    df = pd.read_csv(csv_file, low_memory=False)\n",
    "    data_list = df.to_dict(orient='records')\n",
    "    with open(json_file, 'w', encoding='utf-8') as f:\n",
    "        json.dump(data_list, f, ensure_ascii=False, indent=4)"
   ]
  },
  {
   "cell_type": "code",
   "execution_count": 14,
   "metadata": {},
   "outputs": [],
   "source": [
    "def csv_para_json(csv_file, json_file):\n",
    "    df = pd.read_csv(csv_file, low_memory=False)\n",
    "    data_list = df.to_dict(orient='records')\n",
    "    with open(json_file, 'w', encoding='utf-8') as f:\n",
    "        json.dump(data_list, f, ensure_ascii=False, indent=4)\n",
    "        \n",
    "for csv_file in glob.glob(os.path.join(atalho_csv, '*.csv')):\n",
    "    base_name = os.path.basename(csv_file)\n",
    "    \n",
    "    json_file_name = base_name.replace('.csv', '.json')\n",
    "    \n",
    "    df = pd.read_csv(csv_file, low_memory=False)\n",
    "    df.replace(['', ' '], np.nan, inplace=True)\n",
    "\n",
    "    csv_para_json(csv_file, json_file_name)"
   ]
  }
 ],
 "metadata": {
  "kernelspec": {
   "display_name": "Python 3",
   "language": "python",
   "name": "python3"
  },
  "language_info": {
   "codemirror_mode": {
    "name": "ipython",
    "version": 3
   },
   "file_extension": ".py",
   "mimetype": "text/x-python",
   "name": "python",
   "nbconvert_exporter": "python",
   "pygments_lexer": "ipython3",
   "version": "3.12.3"
  }
 },
 "nbformat": 4,
 "nbformat_minor": 2
}
