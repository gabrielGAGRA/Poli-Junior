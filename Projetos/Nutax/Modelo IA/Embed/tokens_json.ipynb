{
 "cells": [
  {
   "cell_type": "code",
   "execution_count": 4,
   "metadata": {},
   "outputs": [],
   "source": [
    "import json\n",
    "import tiktoken\n",
    "\n",
    "# Carrega o tokenizer\n",
    "encoding = tiktoken.get_encoding(\"cl100k_base\")\n",
    "\n",
    "# Função para contar o número de tokens em um texto\n",
    "def count_tokens(text):\n",
    "    return len(encoding.encode(text))\n",
    "\n",
    "# Função para calcular o número de tokens em um arquivo JSON\n",
    "def calculate_json_tokens(file_path):\n",
    "    with open(file_path, 'r', encoding='utf-8') as f:\n",
    "        # Carrega o conteúdo JSON\n",
    "        data = json.load(f)\n",
    "        # Converte o conteúdo JSON para uma string\n",
    "        json_string = json.dumps(data)\n",
    "        # Calcula o número de tokens\n",
    "        num_tokens = count_tokens(json_string)\n",
    "    \n",
    "    return num_tokens\n"
   ]
  },
  {
   "cell_type": "code",
   "execution_count": 5,
   "metadata": {},
   "outputs": [],
   "source": [
    "file_path = r'novo-base_saidas_202407142342.json'"
   ]
  },
  {
   "cell_type": "code",
   "execution_count": 6,
   "metadata": {},
   "outputs": [
    {
     "name": "stdout",
     "output_type": "stream",
     "text": [
      "The JSON file contains 211041663 tokens.\n"
     ]
    }
   ],
   "source": [
    "num_tokens = calculate_json_tokens(file_path)\n",
    "print(f\"{num_tokens} tokens.\")"
   ]
  },
  {
   "cell_type": "code",
   "execution_count": 10,
   "metadata": {},
   "outputs": [
    {
     "data": {
      "text/plain": [
       "42.2083326"
      ]
     },
     "execution_count": 10,
     "metadata": {},
     "output_type": "execute_result"
    }
   ],
   "source": [
    "num_files = num_tokens/5000000\n",
    "num_files"
   ]
  }
 ],
 "metadata": {
  "kernelspec": {
   "display_name": "Python 3",
   "language": "python",
   "name": "python3"
  },
  "language_info": {
   "codemirror_mode": {
    "name": "ipython",
    "version": 3
   },
   "file_extension": ".py",
   "mimetype": "text/x-python",
   "name": "python",
   "nbconvert_exporter": "python",
   "pygments_lexer": "ipython3",
   "version": "3.12.3"
  }
 },
 "nbformat": 4,
 "nbformat_minor": 2
}
