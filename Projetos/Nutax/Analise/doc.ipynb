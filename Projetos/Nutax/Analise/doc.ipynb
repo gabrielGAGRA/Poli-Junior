{
 "cells": [
  {
   "cell_type": "code",
   "execution_count": null,
   "metadata": {},
   "outputs": [],
   "source": [
    "import pandas as pd\n",
    "import numpy as np"
   ]
  },
  {
   "cell_type": "code",
   "execution_count": null,
   "metadata": {},
   "outputs": [],
   "source": [
    "import matplotlib.pyplot as plt\n",
    "import seaborn as sns"
   ]
  },
  {
   "cell_type": "markdown",
   "metadata": {},
   "source": [
    "## Base_saidas: "
   ]
  },
  {
   "cell_type": "code",
   "execution_count": null,
   "metadata": {},
   "outputs": [],
   "source": [
    "df = pd.read_csv('base_saidas_202407142342.csv', low_memory=False)"
   ]
  },
  {
   "cell_type": "code",
   "execution_count": null,
   "metadata": {},
   "outputs": [],
   "source": [
    "df.replace('', np.nan, inplace=True)\n",
    "df.replace(' ', np.nan, inplace=True)"
   ]
  },
  {
   "cell_type": "code",
   "execution_count": null,
   "metadata": {},
   "outputs": [],
   "source": [
    "print(df.columns)"
   ]
  },
  {
   "cell_type": "markdown",
   "metadata": {},
   "source": [
    "#### Analise de NaN:"
   ]
  },
  {
   "cell_type": "code",
   "execution_count": null,
   "metadata": {},
   "outputs": [],
   "source": [
    "nan_percentage_dict = {}"
   ]
  },
  {
   "cell_type": "code",
   "execution_count": null,
   "metadata": {},
   "outputs": [],
   "source": [
    "for column in df.columns:\n",
    "    nan_percentage = df[column].isna().mean() * 100\n",
    "    nan_percentage_dict[column] = nan_percentage\n",
    "    print(f\"{column}: {nan_percentage}%\")"
   ]
  },
  {
   "cell_type": "code",
   "execution_count": null,
   "metadata": {},
   "outputs": [],
   "source": [
    "numeric_columns = df.select_dtypes(include=[np.number]).columns\n",
    "\n",
    "timestamp_columns = df[['dt_created','dt_updated','id_dt_ini', 'id_dt_fin', 'dt_doc']]\n",
    "\n",
    "string_columns = df.select_dtypes(include=['object']).columns\n",
    "string_columns = [col for col in string_columns if col not in list(numeric_columns) + list(timestamp_columns)]"
   ]
  },
  {
   "cell_type": "code",
   "execution_count": null,
   "metadata": {},
   "outputs": [],
   "source": [
    "df[string_columns].describe()"
   ]
  },
  {
   "cell_type": "code",
   "execution_count": null,
   "metadata": {},
   "outputs": [],
   "source": [
    "print(\"Numeric Columns:\")\n",
    "for column in numeric_columns:\n",
    "    nan_percentage = df[column].isna().mean() * 100\n",
    "    print(f\"{column}: {nan_percentage:.2f}%\")"
   ]
  },
  {
   "cell_type": "code",
   "execution_count": null,
   "metadata": {},
   "outputs": [],
   "source": [
    "print(\"\\nTimestamp Columns:\")\n",
    "for column in timestamp_columns:\n",
    "    nan_percentage = df[column].isna().mean() * 100\n",
    "    print(f\"{column}: {nan_percentage:.2f}%\")"
   ]
  },
  {
   "cell_type": "code",
   "execution_count": null,
   "metadata": {},
   "outputs": [],
   "source": [
    "print(\"\\nString Columns:\")\n",
    "for column in string_columns:\n",
    "    nan_percentage = df[column].isna().mean() * 100\n",
    "    print(f\"{column}: {nan_percentage:.2f}%\")"
   ]
  },
  {
   "cell_type": "markdown",
   "metadata": {},
   "source": [
    "#### 0% NaN:"
   ]
  },
  {
   "cell_type": "code",
   "execution_count": null,
   "metadata": {},
   "outputs": [],
   "source": [
    "zero_percent_nan = {key: value for key, value in nan_percentage_dict.items() if value == 0}\n",
    "\n",
    "print(\"Colunas completas:\")\n",
    "\n",
    "for key in zero_percent_nan:\n",
    "    print(f\"{key}\")"
   ]
  },
  {
   "cell_type": "markdown",
   "metadata": {},
   "source": [
    "#### 0-20% NaN:"
   ]
  },
  {
   "cell_type": "code",
   "execution_count": null,
   "metadata": {},
   "outputs": [],
   "source": [
    "twenty_percent_nan = {key: value for key, value in nan_percentage_dict.items() if value > 0 and value < 20}\n",
    "\n",
    "for key, value in twenty_percent_nan.items():\n",
    "    print(f\"{key}: {value:.2f}%\")"
   ]
  },
  {
   "cell_type": "code",
   "execution_count": null,
   "metadata": {},
   "outputs": [],
   "source": [
    "filtered_nan_percentage_dict = {k: v for k, v in nan_percentage_dict.items() if v > 0 and v < 20}\n",
    "\n",
    "columns = list(filtered_nan_percentage_dict.keys())\n",
    "nan_percentages = list(filtered_nan_percentage_dict.values())\n",
    "\n",
    "plt.figure(figsize=(10, 6))\n",
    "plt.bar(columns, nan_percentages, color='skyblue')\n",
    "\n",
    "plt.xlabel('Columns')\n",
    "plt.ylabel('Percentage of NaN Values')\n",
    "\n",
    "plt.xticks(rotation=45, ha='right')\n",
    "\n",
    "plt.tight_layout()\n",
    "plt.show()"
   ]
  },
  {
   "cell_type": "markdown",
   "metadata": {},
   "source": [
    "#### 20-50% NaN:"
   ]
  },
  {
   "cell_type": "code",
   "execution_count": null,
   "metadata": {},
   "outputs": [],
   "source": [
    "fifty_percent_nan = {key: value for key, value in nan_percentage_dict.items() if value > 20 and value < 50}\n",
    "\n",
    "for key, value in fifty_percent_nan.items():\n",
    "    print(f\"{key}: {value:.2f}%\")"
   ]
  },
  {
   "cell_type": "code",
   "execution_count": null,
   "metadata": {},
   "outputs": [],
   "source": [
    "filtered_nan_percentage_dict = {k: v for k, v in nan_percentage_dict.items() if v > 20 and v < 50}\n",
    "\n",
    "columns = list(filtered_nan_percentage_dict.keys())\n",
    "nan_percentages = list(filtered_nan_percentage_dict.values())\n",
    "\n",
    "plt.figure(figsize=(10, 6))\n",
    "plt.bar(columns, nan_percentages, color='skyblue')\n",
    "\n",
    "plt.xlabel('Columns')\n",
    "plt.ylabel('Percentage of NaN Values')\n",
    "\n",
    "plt.xticks(rotation=45, ha='right')\n",
    "\n",
    "plt.tight_layout()\n",
    "plt.show()"
   ]
  },
  {
   "cell_type": "markdown",
   "metadata": {},
   "source": [
    "#### 50-100% NaN:"
   ]
  },
  {
   "cell_type": "code",
   "execution_count": null,
   "metadata": {},
   "outputs": [],
   "source": [
    "majority_percent_nan = {key: value for key, value in nan_percentage_dict.items() if value > 50 and value < 100}\n",
    "\n",
    "for key, value in majority_percent_nan.items():\n",
    "    print(f\"{key}: {value:.2f}%\")"
   ]
  },
  {
   "cell_type": "code",
   "execution_count": null,
   "metadata": {},
   "outputs": [],
   "source": [
    "filtered_nan_percentage_dict = {k: v for k, v in nan_percentage_dict.items() if v > 50 and v < 100}\n",
    "\n",
    "columns = list(filtered_nan_percentage_dict.keys())\n",
    "nan_percentages = list(filtered_nan_percentage_dict.values())\n",
    "\n",
    "plt.figure(figsize=(10, 6))\n",
    "plt.bar(columns, nan_percentages, color='skyblue')\n",
    "\n",
    "plt.xlabel('Columns')\n",
    "plt.ylabel('Percentage of NaN Values')\n",
    "\n",
    "plt.xticks(rotation=45, ha='right')\n",
    "\n",
    "plt.tight_layout()\n",
    "plt.show()"
   ]
  },
  {
   "cell_type": "markdown",
   "metadata": {},
   "source": [
    "#### 100% NaN:"
   ]
  },
  {
   "cell_type": "code",
   "execution_count": null,
   "metadata": {},
   "outputs": [],
   "source": [
    "all_nan = {key: value for key, value in nan_percentage_dict.items() if value == 100}\n",
    "\n",
    "for key, value in all_nan.items():\n",
    "    print(f\"{key}: {value}%\")"
   ]
  },
  {
   "cell_type": "markdown",
   "metadata": {},
   "source": [
    "#### Quantidade de valores unicos:"
   ]
  },
  {
   "cell_type": "code",
   "execution_count": null,
   "metadata": {},
   "outputs": [],
   "source": [
    "unique_dict = {}\n",
    "\n",
    "for column in df.columns:\n",
    "    num_unique_values = len(df[column].dropna().unique())\n",
    "    unique_dict[column] = num_unique_values\n",
    "    print(f'{column}: {num_unique_values} valores unicos')"
   ]
  },
  {
   "cell_type": "markdown",
   "metadata": {},
   "source": [
    "#### 1 valor unico:"
   ]
  },
  {
   "cell_type": "code",
   "execution_count": null,
   "metadata": {},
   "outputs": [],
   "source": [
    "unique_value_columns = {key: value for key, value in unique_dict.items() if value == 1}\n",
    "\n",
    "print(\"1 valor unico:\")\n",
    "for key in unique_value_columns:\n",
    "    unique_values = df[key].dropna().unique()\n",
    "    print(f\"{key}: {unique_values}\")"
   ]
  },
  {
   "cell_type": "markdown",
   "metadata": {},
   "source": [
    "#### 2-12 valores unicos:"
   ]
  },
  {
   "cell_type": "code",
   "execution_count": null,
   "metadata": {},
   "outputs": [],
   "source": [
    "to_round = ['extipi', 'pfcpufddest', 'picmsinterpart', 'aliq_icms']\n",
    "df[to_round] = df[to_round].apply(pd.to_numeric, errors='coerce')\n",
    "for col in to_round:\n",
    "    df[col] = df[col].round(2)"
   ]
  },
  {
   "cell_type": "code",
   "execution_count": null,
   "metadata": {},
   "outputs": [],
   "source": [
    "unique_value_columns2 = {key: value for key, value in unique_dict.items() if value > 1 and value < 13}\n",
    "\n",
    "for key in unique_value_columns2:\n",
    "    unique_values = df[key].dropna().unique()\n",
    "    print(f\"{key}: {unique_values}\")"
   ]
  },
  {
   "cell_type": "markdown",
   "metadata": {},
   "source": [
    "#### 14-18 valores"
   ]
  },
  {
   "cell_type": "code",
   "execution_count": null,
   "metadata": {},
   "outputs": [],
   "source": [
    "unique_value_columns3 = {key: value for key, value in unique_dict.items() if value > 13 and value < 19}\n",
    "\n",
    "for key in unique_value_columns3:\n",
    "    unique_values = df[key].dropna().unique()\n",
    "    print(f\"{key}: {df[key].unique()}\")"
   ]
  },
  {
   "cell_type": "markdown",
   "metadata": {},
   "source": [
    "#### 19-42 valores"
   ]
  },
  {
   "cell_type": "code",
   "execution_count": null,
   "metadata": {},
   "outputs": [],
   "source": [
    "unique_value_columns3 = {key: value for key, value in unique_dict.items() if value > 18 and value < 43}\n",
    "\n",
    "for key in unique_value_columns3:\n",
    "    unique_values = df[key].dropna().unique()\n",
    "    print(f\"{key}: {df[key].unique()}\")"
   ]
  },
  {
   "cell_type": "code",
   "execution_count": null,
   "metadata": {},
   "outputs": [],
   "source": [
    "analysis_df = df[['pfcpufddest', 'aliq_icms', 'unid', 'qtd', 'vl_unit', 'vl_item', 'qtd_trib', 'v_frete', 'v_seg','outras_despesas','vl_bc_icms','aliq_icms','vl_icms','vdeson','vbcufddest','pfcpufddest','picmsinter','vfcpufdest','vicmsufdest','vicmsufremet','imposto_pis_vbc','imposto_pis_ppis','imposto_pis_vpis','imposto_cofins_vbc','imposto_cofins_pcofins','imposto_cofins_vcofins','cfop_cst']]"
   ]
  },
  {
   "cell_type": "code",
   "execution_count": null,
   "metadata": {},
   "outputs": [],
   "source": [
    "def analyse(column):\n",
    "    pd.to_numeric(df[column], errors='coerce')\n",
    "    df[column] = df[column].clip(lower=df[column].quantile(0.05), upper=df[column].quantile(0.95))"
   ]
  },
  {
   "cell_type": "code",
   "execution_count": null,
   "metadata": {},
   "outputs": [],
   "source": [
    "for column in analysis_df:\n",
    "    if df[column].dtype in ['int64', 'float64']:\n",
    "        analyse(column)\n",
    "        sns.violinplot(y=column, data=df)\n",
    "        plt.show()\n",
    "        try:\n",
    "            df[column].plot(\n",
    "            kind=\"density\", subplots=True, layout=(1, 2), sharex=False, figsize=(10, 4)\n",
    "            );\n",
    "            plt.show()\n",
    "        except: \n",
    "            continue"
   ]
  }
 ],
 "metadata": {
  "kernelspec": {
   "display_name": "Python 3",
   "language": "python",
   "name": "python3"
  },
  "language_info": {
   "codemirror_mode": {
    "name": "ipython",
    "version": 3
   },
   "file_extension": ".py",
   "mimetype": "text/x-python",
   "name": "python",
   "nbconvert_exporter": "python",
   "pygments_lexer": "ipython3",
   "version": "3.12.3"
  }
 },
 "nbformat": 4,
 "nbformat_minor": 2
}
