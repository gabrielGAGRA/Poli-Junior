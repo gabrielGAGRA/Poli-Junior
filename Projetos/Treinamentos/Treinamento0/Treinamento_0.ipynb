{
 "cells": [
  {
   "cell_type": "markdown",
   "metadata": {},
   "source": [
    "## Treinamento 0 -> Introdução ao NDados\n",
    "\n",
    "Primeiramente, usamos esse espaço para dar Boas-Vindas ao núcleo de Análise e Inteligência de dados da Poli Júnior. Sabemos que não foi fácil chegar até aqui e exigiu bastante esforço de cada um de vocês, por isso, deixa-se aqui os mais sinceros parábens pela aprovação, a partir daqui as coisas ficarão interessantes!\n",
    "\n",
    "\n",
    "Como o próprio nome diz, esse treinamento é uma introdução às ferramentas básicas que utilizamos em qualquer projeto dentro do núcleo. A principal ferramenta que queremos trabalhar é o Python e sabemos que nem todos possuem conhecimento prévio dessa linguagem de programação, por isso é importante colocarmos todos no mesmo ponto para então começarmos a trabalhar com tópicos mais aprofundados. Dessa forma, esse treinamento busca desenvolver as principais lógicas da linguagem de Python, sem se estender para a questão de bibliotecas de Machine Learning, plotagem gráfica etc. Com esses exercícios, esperamos que vocês aprendam sobre alguns comandos essenciais do Python e desenvolvam uma forma de raciocinar mais eficiente com esses problemas. Apesar de não estarem inclusas as bibliotecas, os comandos ensinados aqui dialogam muito bem com as bibliotecas e são comandas universais, encaixando-se em qualquer contexto de projeto envolvendo python.\n",
    "\n",
    "Dada essa motivação, podemos dar início ao treinamento. Nesse arquivo, só há os exercícios da tarefa, mas aconselhamos fortemente que seja feito o acesso aos materiais de treinamento no Notion. Fizemos materiais especificamente para esse treinamento, então lá há um bom direcionamento! Para acessar, basta entrar no notion do núcleo, entrar em Treinamentos Internos -> Treinamentos Introdutórios e lá estará o módulo de 4 materiais que trabalham com o que será cobrado aqui!\n",
    "\n"
   ]
  },
  {
   "cell_type": "markdown",
   "metadata": {},
   "source": [
    "### Questão 1\n",
    "\n",
    "Escreva uma função chamada `soma` que receba dois parâmetros, `a` e `b`, e retorne a soma dos dois. Assuma que os parâmetros podem ser números inteiros ou de ponto flutuante.\n",
    "\n",
    "#### Exemplo de Entrada:\n",
    "```python\n",
    "a = 3\n",
    "b = 4\n",
    "\n",
    "Saída: 7"
   ]
  },
  {
   "cell_type": "code",
   "execution_count": null,
   "metadata": {},
   "outputs": [],
   "source": [
    "def soma(a, b):\n",
    "    \"\"\"baseado no exemplo do arquivo, minha solucao para 3 + 4 printar \"7\" e nao \"7.0\" foi nao converter o input diretamente para float\n",
    "    mas sim tentar converter ambos strings para int e em caso de erro converter em float\"\"\"\n",
    "    try:\n",
    "        a = int(a)\n",
    "        b = int(b)\n",
    "    except ValueError:\n",
    "        a = float(a)\n",
    "        b = float(b)\n",
    "    print(a + b)\n",
    "    \n",
    "a = (input(\"a= \"))\n",
    "b = (input(\"b= \"))\n",
    "\n",
    "soma(a, b)"
   ]
  },
  {
   "cell_type": "markdown",
   "metadata": {},
   "source": [
    "### Questão 2\n",
    "Escreva uma função `find_max_product` que recebe uma lista de números inteiros e retorna o produto dos dois maiores números na lista.\n",
    "\n",
    "### Exemplos:\n",
    "\n",
    "Entrada: nums = [1, 2, 3]\n",
    "\n",
    "Saída: 6\n",
    "\n",
    "Explicação: O produto dos dois maiores números (2 e 3) é 6.\n",
    "\n",
    "Entrada: nums = [10, -20, 0, 3]\n",
    "\n",
    "Saída: 30\n",
    "\n",
    "Explicação: O produto dos dois maiores números (10 e 3) é 30.\n",
    "\n",
    "Entrada: nums = [-1, -2, -3, -4]\n",
    "\n",
    "Saída: 12\n",
    "\n",
    "Explicação: O produto dos dois maiores números (-3 e -4) é 12.\n",
    "\n",
    "Notas:\n",
    "\n",
    "Você pode assumir que a lista sempre terá pelo menos dois elementos.\n",
    "A função deve ser capaz de lidar com números negativos e positivos."
   ]
  },
  {
   "cell_type": "code",
   "execution_count": null,
   "metadata": {},
   "outputs": [],
   "source": [
    "def find_max_product(lst):\n",
    "    max1 = max(nums_lst)\n",
    "    nums_lst.remove(max1)\n",
    "    max2 = max(nums_lst)\n",
    "    print(max1 * max2)\n",
    "\n",
    "nums = input(\"nums = \")\n",
    "nums_lst = eval(nums)\n",
    "\n",
    "find_max_product(nums_lst)"
   ]
  },
  {
   "cell_type": "markdown",
   "metadata": {},
   "source": [
    "### Questão 3\n",
    "Dado uma lista de inteiros `nums`, crie uma função `temDuplicado`, que recebe a lista nums como parâmetro e retorna `true` se algum valor aparecer pelo menos duas vezes na lista e retorne `false` se todos os elementos forem distintos.\n",
    "\n",
    "#### Exemplo 1:\n",
    "\n",
    "Entrada: nums = [1,2,3,1]\n",
    "\n",
    "Saída: true\n",
    "\n",
    "#### Exemplo 2:\n",
    "\n",
    "Entrada: nums = [1,2,3,4]\n",
    "\n",
    "Saída: false\n",
    "\n",
    "#### Exemplo 3:\n",
    "\n",
    "Entrada: nums = [1,1,1,3,3,4,3,2,4,2]\n",
    "\n",
    "Saída: true"
   ]
  },
  {
   "cell_type": "code",
   "execution_count": null,
   "metadata": {},
   "outputs": [],
   "source": [
    "def temDuplicado(lst):\n",
    "    seen = []\n",
    "    for number in lst:\n",
    "       if number in seen:\n",
    "           print(\"true\")\n",
    "           return(1)\n",
    "       seen.append(number)\n",
    "    print(\"false\")    \n",
    "\n",
    "nums_str = input(\"nums = \")\n",
    "nums_lst = eval(nums_str) #vira lista\n",
    "\n",
    "temDuplicado(nums_lst)"
   ]
  },
  {
   "cell_type": "markdown",
   "metadata": {},
   "source": [
    "### Questão 4\n",
    "Escreva uma função `prefixo`, que recebe uma lista de palavras, e retorna o prefixo comum mais longo entre as palavras da lista de strings.\n",
    "\n",
    "Se não houver um prefixo comum, retorne uma string vazia \"\".\n",
    "\n",
    "#### Exemplo 1:\n",
    "\n",
    "Entrada: strs = [\"flower\",\"flow\",\"flight\"]\n",
    "\n",
    "Saída: \"fl\"\n",
    "\n",
    "#### Exemplo 2:\n",
    "\n",
    "Entrada: strs = [\"dog\",\"racecar\",\"car\"]\n",
    "\n",
    "Saída: \"\""
   ]
  },
  {
   "cell_type": "code",
   "execution_count": null,
   "metadata": {},
   "outputs": [],
   "source": [
    "def prefixo(lst): \n",
    "    prefix = \"\"\n",
    "    palavra1= lst[0]\n",
    "    len_palavra1 = len(palavra1)\n",
    "\n",
    "    for i in range(len_palavra1):\n",
    "        #caractere atual analisado\n",
    "        letra = palavra1[i]\n",
    "        for palavra in lst:\n",
    "            #checa se todas as palavras tem o mesmo caractere na posicao i e se o i nao ultrapassou o tamanho da palavra\n",
    "            if i >= len(palavra) or palavra[i] != letra:\n",
    "                print(prefix)\n",
    "                exit()\n",
    "        prefix += letra\n",
    "\n",
    "strs = input(\"strs = \")\n",
    "strs = strs[1:-1] #corta o [ e o ]\n",
    "strs = strs.replace('\"', '') #corta todas as aspas\n",
    "palavras_lst = strs.split(\",\") #divide palavras\n",
    "    \n",
    "prefixo(palavras_lst)"
   ]
  },
  {
   "cell_type": "markdown",
   "metadata": {},
   "source": [
    "#### Questão 5\n",
    "Dado uma lista de inteiros `nums` e um inteiro `target`, retorne os índices dos dois números de modo que eles somem para dar o `target`.\n",
    "\n",
    "Você pode assumir que cada entrada terá exatamente uma solução, e não pode usar o mesmo elemento duas vezes.\n",
    "\n",
    "Você pode retornar a resposta em qualquer ordem.\n",
    "\n",
    "#### Exemplo 1:\n",
    "\n",
    "Entrada: nums = [2,7,11,15], target = 9\n",
    "\n",
    "Saída: [0,1]\n",
    "Explicação: Como nums[0] + nums[1] == 9, retornamos [0, 1].\n",
    "\n",
    "#### Exemplo 2:\n",
    "\n",
    "Entrada: nums = [3,2,4], target = 6\n",
    "\n",
    "Saída: [1,2]\n",
    "\n",
    "#### Exemplo 3:\n",
    "\n",
    "Entrada: nums = [3,3], target = 6\n",
    "\n",
    "Saída: [0,1]"
   ]
  },
  {
   "cell_type": "code",
   "execution_count": null,
   "metadata": {},
   "outputs": [],
   "source": [
    "nums = input(\"nums = \")\n",
    "target = int(input(\"target = \"))\n",
    "\n",
    "nums_array = eval(nums)\n",
    "length = len(nums_array)\n",
    "\n",
    "for i in range(0, length):\n",
    "    for j in range(i + 1, length):\n",
    "        if nums_array[i] + nums_array[j] == target:\n",
    "            print(f'[{i}, {j}]')"
   ]
  },
  {
   "cell_type": "markdown",
   "metadata": {},
   "source": [
    "### DESAFIO (OPCIONAL)\n",
    "Dado uma lista de strings `strs`, crie uma função `groupAnagram`, que recebe a lista de strings como parâmetro e agrupa os anagramas juntos. Você pode retornar a resposta em qualquer ordem.\n",
    "\n",
    "### Exemplo 1:\n",
    "\n",
    "Entrada: strs = [\"eat\", \"tea\", \"tan\", \"ate\", \"nat\", \"bat\"]\n",
    "\n",
    "Saída: [[\"bat\"], [\"nat\", \"tan\"], [\"ate\", \"eat\", \"tea\"]]\n",
    "\n",
    "### Exemplo 2:\n",
    "\n",
    "Entrada: strs = [\"\"]\n",
    "\n",
    "Saída: [[\"\"]]\n",
    "\n",
    "### Exemplo 3:\n",
    "\n",
    "Entrada: strs = [\"a\"]\n",
    "\n",
    "Saída: [[\"a\"]]\n"
   ]
  },
  {
   "cell_type": "code",
   "execution_count": null,
   "metadata": {},
   "outputs": [],
   "source": []
  }
 ],
 "metadata": {
  "kernelspec": {
   "display_name": "Python 3",
   "language": "python",
   "name": "python3"
  },
  "language_info": {
   "name": "python",
   "version": "3.11.4"
  }
 },
 "nbformat": 4,
 "nbformat_minor": 2
}
