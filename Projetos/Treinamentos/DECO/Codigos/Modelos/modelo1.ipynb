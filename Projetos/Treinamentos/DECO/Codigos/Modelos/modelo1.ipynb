{
 "cells": [
  {
   "cell_type": "markdown",
   "metadata": {},
   "source": [
    "### CODIGO SQL"
   ]
  },
  {
   "cell_type": "code",
   "execution_count": null,
   "metadata": {},
   "outputs": [],
   "source": [
    "\"\"\"\n",
    "SELECT\n",
    "    o.order_id,\n",
    "    (date_diff('second', o.order_purchase_timestamp, o.order_approved_at) / 86400.0) AS TimeToApprove,\n",
    "    (date_diff('second', o.order_approved_at, o.order_delivered_carrier_date) / 86400.0) AS ApprovedToCarrier,\n",
    "    (date_diff('second', o.order_delivered_carrier_date, o.order_delivered_customer_date) / 86400.0) AS CarrierToCustomer,\n",
    "    o.delivery_time\n",
    "    \n",
    "FROM\n",
    "    orders o\n",
    "\"\"\"\n"
   ]
  },
  {
   "cell_type": "markdown",
   "metadata": {},
   "source": [
    "### MATCHES"
   ]
  },
  {
   "cell_type": "code",
   "execution_count": null,
   "metadata": {},
   "outputs": [],
   "source": [
    "\"\"\"\n",
    "import pandas as pd\n",
    "\n",
    "DATA = r\"C:\\Users\\gabri\\Documents\\PROJETOS\\PY\\PJ_Code\\DE\\Data\\dadosLimitados.csv\"\n",
    "df = pd.read_csv(DATA)\n",
    "\n",
    "df_test = pd.read_csv(r'C:\\Users\\gabri\\Documents\\PROJETOS\\PY\\PJ_Code\\DE\\treinamento-ciencia-de-dados-24-1\\test.csv')\n",
    "\n",
    "# Step 1: Match on 'order_id'\n",
    "matches_order_id = pd.merge(df, df_test, on='order_id', how='inner')\n",
    "\n",
    "# Step 2: Match on 'customer_id'\n",
    "matches_customer_id = pd.merge(df, df_test, on='customer_id', how='inner')\n",
    "\n",
    "# Step 3: Match 'customer_id' from df_test with 'customer_unique_id' from df\n",
    "matches_customer_unique = pd.merge(df, df_test, left_on='customer_unique_id', right_on='customer_id', how='inner')\n",
    "\n",
    "# Display the matching rows for each case\n",
    "print(\"Matches on order_id:\")\n",
    "print(matches_order_id)\n",
    "print(\"\\nMatches on customer_id:\")\n",
    "print(matches_customer_id)\n",
    "print(\"\\nMatches on customer_id from df_test with customer_unique_id from df:\")\n",
    "print(matches_customer_unique)\n",
    "\"\"\""
   ]
  },
  {
   "cell_type": "markdown",
   "metadata": {},
   "source": [
    "### LIMPEZA"
   ]
  },
  {
   "cell_type": "code",
   "execution_count": 1,
   "metadata": {},
   "outputs": [],
   "source": [
    "import pandas as pd\n",
    "\n",
    "DATA_URL = r\"C:\\Users\\gabri\\Documents\\PROJETOS\\PY\\PJ_Code\\DE\\Data\\Modelo 1\\TREINO.csv\"\n",
    "df = pd.read_csv(DATA_URL)\n",
    "\n",
    "def remove_outliers(df, column):\n",
    "    Q1 = df[column].quantile(0.25)\n",
    "    Q3 = df[column].quantile(0.75)\n",
    "    IQR = Q3 - Q1\n",
    "    lower_bound = Q1 - 1.5 * IQR\n",
    "    upper_bound = Q3 + 1.5 * IQR\n",
    "    return df[(df[column] >= lower_bound) & (df[column] <= upper_bound)]\n",
    "\n",
    "columns_to_clean = ['delivery_time', 'TimeToApprove', 'ApprovedToCarrier', 'CarrierToCustomer']\n",
    "for column in columns_to_clean:\n",
    "    df = remove_outliers(df, column)\n",
    "    \n",
    "df.to_csv(r\"C:\\Users\\gabri\\Documents\\PROJETOS\\PY\\PJ_Code\\DE\\Data\\Modelo 1\\TREINO_limpo.csv\", index=False)"
   ]
  },
  {
   "cell_type": "markdown",
   "metadata": {},
   "source": [
    "# MODELO"
   ]
  },
  {
   "cell_type": "code",
   "execution_count": 3,
   "metadata": {},
   "outputs": [],
   "source": [
    "import pandas as pd\n",
    "from sklearn.linear_model import LinearRegression\n",
    "\n",
    "train_data = pd.read_csv(r'C:\\Users\\gabri\\Documents\\PROJETOS\\PY\\PJ_Code\\DE\\Data\\Modelo 1\\TREINO_limpo.csv')\n",
    "\n",
    "# Select features and target\n",
    "features = ['TimeToApprove', 'ApprovedToCarrier', 'CarrierToCustomer']\n",
    "target = 'delivery_time'\n",
    "\n",
    "X_train = train_data[features]\n",
    "y_train = train_data[target]\n",
    "\n",
    "# Train the model\n",
    "model = LinearRegression()\n",
    "model.fit(X_train, y_train)\n",
    "\n",
    "# Load the testing data\n",
    "test_data = pd.read_csv(r'C:\\Users\\gabri\\Documents\\PROJETOS\\PY\\PJ_Code\\DE\\Data\\test.csv')\n",
    "\n",
    "# Convert timestamps to datetime\n",
    "test_data['order_purchase_timestamp'] = pd.to_datetime(test_data['order_purchase_timestamp'])\n",
    "test_data['order_approved_at'] = pd.to_datetime(test_data['order_approved_at'])\n",
    "\n",
    "# Compute TimeToApprove\n",
    "test_data['TimeToApprove'] = (test_data['order_approved_at'] - test_data['order_purchase_timestamp']).dt.total_seconds() / (60 * 60 * 24)\n",
    "\n",
    "# Use historical averages for ApprovedToCarrier and CarrierToCustomer\n",
    "# Calculate these averages from the training data\n",
    "avg_approved_to_carrier = train_data['ApprovedToCarrier'].mean()\n",
    "avg_carrier_to_customer = train_data['CarrierToCustomer'].mean()\n",
    "\n",
    "# Add these averages to the test data\n",
    "test_data['ApprovedToCarrier'] = avg_approved_to_carrier\n",
    "test_data['CarrierToCustomer'] = avg_carrier_to_customer\n",
    "\n",
    "# Select features for prediction\n",
    "X_test = test_data[['TimeToApprove', 'ApprovedToCarrier', 'CarrierToCustomer']]\n",
    "\n",
    "# Predict delivery times for the test data\n",
    "test_data['predicted_delivery_time'] = model.predict(X_test)\n",
    "\n",
    "# Select only the 'order_id' and 'predicted_delivery_time' columns\n",
    "output_data = test_data[['order_id', 'predicted_delivery_time']]\n",
    "\n",
    "# Save the selected data to a CSV file\n",
    "output_data.to_csv(r'C:\\Users\\gabri\\Documents\\PROJETOS\\PY\\PJ_Code\\DE\\predictions.csv', index=False)"
   ]
  }
 ],
 "metadata": {
  "kernelspec": {
   "display_name": "Python 3",
   "language": "python",
   "name": "python3"
  },
  "language_info": {
   "codemirror_mode": {
    "name": "ipython",
    "version": 3
   },
   "file_extension": ".py",
   "mimetype": "text/x-python",
   "name": "python",
   "nbconvert_exporter": "python",
   "pygments_lexer": "ipython3",
   "version": "3.12.3"
  }
 },
 "nbformat": 4,
 "nbformat_minor": 2
}
