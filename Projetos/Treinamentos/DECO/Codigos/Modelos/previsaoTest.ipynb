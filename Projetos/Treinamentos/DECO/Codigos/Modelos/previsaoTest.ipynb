{
 "cells": [
  {
   "cell_type": "code",
   "execution_count": 48,
   "metadata": {},
   "outputs": [],
   "source": [
    "import pandas as pd\n",
    "\n",
    "train_data = pd.read_csv(r'C:\\Users\\gabri\\Documents\\PROJETOS\\PY\\PJ_Code\\DE\\Data\\Modelo 2\\dados_completos - Copy.csv')\n",
    "test_data = pd.read_csv(r'C:\\Users\\gabri\\Documents\\PROJETOS\\PY\\PJ_Code\\DE\\Data\\test.csv')"
   ]
  },
  {
   "cell_type": "code",
   "execution_count": 49,
   "metadata": {},
   "outputs": [],
   "source": [
    "# calcula tempo de aprovacao\n",
    "test_data['order_purchase_timestamp'] = pd.to_datetime(test_data['order_purchase_timestamp'])\n",
    "test_data['order_approved_at'] = pd.to_datetime(test_data['order_approved_at'])\n",
    "test_data['TimeToApprove'] = (test_data['order_approved_at'] - test_data['order_purchase_timestamp']).dt.total_seconds() / (60 * 60 * 24)"
   ]
  },
  {
   "cell_type": "code",
   "execution_count": 50,
   "metadata": {},
   "outputs": [],
   "source": [
    "def remove_outliers(df, column):\n",
    "    Q1 = df[column].quantile(0.25)\n",
    "    Q3 = df[column].quantile(0.75)\n",
    "    IQR = Q3 - Q1\n",
    "    lower_bound = Q1 - 2.3 * IQR\n",
    "    upper_bound = Q3 + 2.3 * IQR\n",
    "    return df[(df[column] >= lower_bound) & (df[column] <= upper_bound)]\n",
    "\n",
    "train_data = remove_outliers(train_data, 'TimeToApprove')\n",
    "train_data = train_data.drop_duplicates('order_id', keep='first')\n",
    "train_data = train_data.dropna(subset=['delivery_time', 'TimeToApprove', 'ApprovedToCarrier','seller_state','distance','product_category_name'])"
   ]
  },
  {
   "cell_type": "code",
   "execution_count": 51,
   "metadata": {},
   "outputs": [],
   "source": [
    "Q1 = train_data.groupby('seller_state')['delivery_time'].quantile(0.25)\n",
    "Q3 = train_data.groupby('seller_state')['delivery_time'].quantile(0.75)\n",
    "IQR = Q3 - Q1\n",
    "lower_bound = Q1 - 1.5 * IQR\n",
    "upper_bound = Q3 + 1.5 * IQR\n",
    "\n",
    "mask = train_data.apply(lambda row: row['delivery_time'] >= lower_bound.get(row['seller_state'], float('-inf')) and row['delivery_time'] <= upper_bound.get(row['seller_state'], float('inf')), axis=1)\n",
    "train_data = train_data[mask]"
   ]
  },
  {
   "cell_type": "code",
   "execution_count": 52,
   "metadata": {},
   "outputs": [],
   "source": [
    "import numpy as np\n",
    "# cria colunas (vazias) que faltam no test\n",
    "columns_to_add = ['ApprovedToCarrier', 'distance', 'product_category_name', 'seller_state']\n",
    "for column in columns_to_add:\n",
    "      test_data[column] = np.nan"
   ]
  },
  {
   "cell_type": "code",
   "execution_count": 53,
   "metadata": {},
   "outputs": [],
   "source": [
    "from sklearn.ensemble import RandomForestRegressor\n",
    "from sklearn.pipeline import Pipeline\n",
    "from sklearn.preprocessing import StandardScaler\n",
    "\n",
    "# Initialize the model\n",
    "numerical_model = Pipeline([\n",
    "    ('scaler', StandardScaler()),\n",
    "    ('regressor', RandomForestRegressor(n_estimators=80, random_state=42))\n",
    "])\n",
    "\n",
    "# Fit the model on the training data\n",
    "numerical_model.fit(train_data[['TimeToApprove']], train_data[['ApprovedToCarrier', 'distance']])\n",
    "\n",
    "# Predict the numerical features for the test dataset\n",
    "predicted_numerical_features = numerical_model.predict(test_data[['TimeToApprove']])"
   ]
  },
  {
   "cell_type": "code",
   "execution_count": 54,
   "metadata": {},
   "outputs": [],
   "source": [
    "from sklearn.ensemble import RandomForestClassifier\n",
    "\n",
    "# Initialize the model\n",
    "categorical_model = RandomForestClassifier(n_estimators=80, random_state=42)\n",
    "\n",
    "# Fit the model on the training data\n",
    "categorical_model.fit(train_data[['TimeToApprove']], train_data[['product_category_name', 'seller_state']])\n",
    "\n",
    "# Predict the categorical features for the test dataset\n",
    "predicted_categorical_features = categorical_model.predict(test_data[['TimeToApprove']])"
   ]
  },
  {
   "cell_type": "code",
   "execution_count": 55,
   "metadata": {},
   "outputs": [],
   "source": [
    "# Assign predicted numerical features\n",
    "test_data['ApprovedToCarrier'] = predicted_numerical_features[:, 0]\n",
    "test_data['distance'] = predicted_numerical_features[:, 1]\n",
    "\n",
    "# Assign predicted categorical features\n",
    "test_data['product_category_name'] = predicted_categorical_features[:, 0]\n",
    "test_data['seller_state'] = predicted_categorical_features[:, 1]"
   ]
  },
  {
   "cell_type": "code",
   "execution_count": 56,
   "metadata": {},
   "outputs": [],
   "source": [
    "test_data.to_csv(r'C:\\Users\\gabri\\Documents\\PROJETOS\\PY\\PJ_Code\\DE\\Data\\Modelo 2\\teste2_menosFULL.csv', index=False)"
   ]
  }
 ],
 "metadata": {
  "kernelspec": {
   "display_name": "Python 3",
   "language": "python",
   "name": "python3"
  },
  "language_info": {
   "codemirror_mode": {
    "name": "ipython",
    "version": 3
   },
   "file_extension": ".py",
   "mimetype": "text/x-python",
   "name": "python",
   "nbconvert_exporter": "python",
   "pygments_lexer": "ipython3",
   "version": "3.12.3"
  }
 },
 "nbformat": 4,
 "nbformat_minor": 2
}
