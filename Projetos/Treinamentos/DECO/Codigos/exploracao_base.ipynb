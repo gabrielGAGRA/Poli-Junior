{
 "cells": [
  {
   "cell_type": "code",
   "execution_count": 2,
   "metadata": {},
   "outputs": [],
   "source": [
    "import pandas as pd\n",
    "\n",
    "DATA_URL = r\"C:\\Users\\gabri\\Documents\\PROJETOS\\PY\\PJ_Code\\DE\\Data\\dados_limpos.csv\"\n",
    "df = pd.read_csv(DATA_URL) "
   ]
  },
  {
   "cell_type": "code",
   "execution_count": 3,
   "metadata": {},
   "outputs": [],
   "source": [
    "pares_cidades = {}\n",
    "pares_estados = {}\n",
    "contador_cliente_sem_cidade = 0\n",
    "contador_vendedor_sem_cidade = 0\n",
    "contador_ambos_sem_cidade = 0\n",
    "\n",
    "contador_cliente_somente_sem_cidade = 0\n",
    "contador_cliente_somente_sem_estado = 0\n",
    "contador_cliente_sem_cidade_e_estado = 0\n",
    "\n",
    "for cidade_cliente, cidade_vendedor, estado_cliente, estado_vendedor in zip(df['customer_city'], df['seller_city'], df['customer_state'], df['seller_state']):\n",
    "    if pd.isna(cidade_cliente) and pd.isna(cidade_vendedor):\n",
    "        contador_ambos_sem_cidade += 1\n",
    "    elif pd.isna(cidade_cliente):\n",
    "        contador_cliente_sem_cidade += 1\n",
    "    elif pd.isna(cidade_vendedor):\n",
    "        contador_vendedor_sem_cidade += 1     \n",
    "    if pd.isna(cidade_cliente) and pd.isna(estado_cliente):\n",
    "        contador_cliente_sem_cidade_e_estado += 1\n",
    "    elif pd.isna(cidade_cliente) and not pd.isna(estado_cliente):\n",
    "        contador_cliente_somente_sem_cidade += 1\n",
    "    elif not pd.isna(cidade_cliente) and pd.isna(estado_cliente):\n",
    "        contador_cliente_somente_sem_estado += 1\n",
    "        \n",
    "    if not pd.isna(cidade_cliente) and cidade_cliente != cidade_vendedor: \n",
    "        par_cidades = tuple(sorted({cidade_cliente, cidade_vendedor}))\n",
    "        if par_cidades not in pares_cidades:\n",
    "            pares_cidades[par_cidades] = 1\n",
    "            \n",
    "    if not pd.isna(estado_cliente) and not pd.isna(estado_vendedor):\n",
    "        par_estados = tuple(sorted({estado_cliente, estado_vendedor}))\n",
    "        if par_estados not in pares_estados:\n",
    "            pares_estados[par_estados] = 1"
   ]
  },
  {
   "cell_type": "code",
   "execution_count": 4,
   "metadata": {},
   "outputs": [
    {
     "name": "stdout",
     "output_type": "stream",
     "text": [
      "Cliente e vendedor sem cidade: 0\n",
      "Cliente sem cidade: 24072\n",
      "Vendedor sem cidade: 0\n",
      "\n",
      "Cliente sem info: 24072\n",
      "Cliente somente sem cidade: 0\n",
      "Cliente somente sem estado: 10298\n"
     ]
    }
   ],
   "source": [
    "print(f\"Cliente e vendedor sem cidade: {contador_ambos_sem_cidade}\")\n",
    "print(f\"Cliente sem cidade: {contador_cliente_sem_cidade}\")\n",
    "print(f\"Vendedor sem cidade: {contador_vendedor_sem_cidade}\\n\")\n",
    "\n",
    "print(f\"Cliente sem info: {contador_cliente_sem_cidade_e_estado}\")\n",
    "print(f\"Cliente somente sem cidade: {contador_cliente_somente_sem_cidade}\")\n",
    "print(f\"Cliente somente sem estado: {contador_cliente_somente_sem_estado}\")"
   ]
  },
  {
   "cell_type": "code",
   "execution_count": 5,
   "metadata": {},
   "outputs": [
    {
     "name": "stdout",
     "output_type": "stream",
     "text": [
      "Pares de cidades (nao nulos): 17680\n",
      "Cidades unicas nos pares: 3191\n"
     ]
    }
   ],
   "source": [
    "print(f\"Pares de cidades (nao nulos): {len(pares_cidades)}\")\n",
    "\n",
    "cidadesUnicas = set()\n",
    "for city_pair in pares_cidades.keys():\n",
    "    cidadesUnicas.update(city_pair)\n",
    "    \n",
    "print(f\"Cidades unicas nos pares: {len(cidadesUnicas)}\")"
   ]
  },
  {
   "cell_type": "code",
   "execution_count": 6,
   "metadata": {},
   "outputs": [
    {
     "name": "stdout",
     "output_type": "stream",
     "text": [
      "Pares de estados (nao nulos): 223\n",
      "Estados unicos nos pares: 27\n"
     ]
    }
   ],
   "source": [
    "print(f\"Pares de estados (nao nulos): {len(pares_estados)}\")\n",
    "\n",
    "estadosUnicos = set()\n",
    "for state_pair in pares_estados.keys():\n",
    "    estadosUnicos.update(state_pair)\n",
    "    \n",
    "print(f\"Estados unicos nos pares: {len(estadosUnicos)}\")"
   ]
  },
  {
   "cell_type": "markdown",
   "metadata": {},
   "source": [
    "#### Consideracoes finais:\n",
    "\n",
    "Temos 18,556 distancias para calcular\n",
    "\n",
    "Temos 3248 coordenadas para buscar\n",
    "\n",
    "Nenhum vendedor esta sem cidade ou sem estado\n",
    "\n",
    "Existem muitos clientes sem informacoes de cidades (28,800/81,768)  \n",
    "Sempre que os clientes estao sem cidade, tambem estao sem estado.  \n",
    "Logo temos 28,800 entradas sem localizacao\n",
    "\n",
    "Para esses clientes sem informacao de geolocalizacao, deve-se explorar categorizar o CEP localmente e traduzir o significado do prefixo. Ou entao usar a localizacao media do estado/localizacao da cidade que mais aparece.\n",
    "\n",
    "Ha 12,309 clientes com cidade e sem o estado. Nesse caso, apenas usar a base de cidades deve resolver"
   ]
  }
 ],
 "metadata": {
  "kernelspec": {
   "display_name": "Python 3",
   "language": "python",
   "name": "python3"
  },
  "language_info": {
   "codemirror_mode": {
    "name": "ipython",
    "version": 3
   },
   "file_extension": ".py",
   "mimetype": "text/x-python",
   "name": "python",
   "nbconvert_exporter": "python",
   "pygments_lexer": "ipython3",
   "version": "3.12.3"
  }
 },
 "nbformat": 4,
 "nbformat_minor": 2
}
