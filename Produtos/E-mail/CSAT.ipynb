{
 "cells": [
  {
   "cell_type": "code",
   "execution_count": 226,
   "metadata": {},
   "outputs": [],
   "source": [
    "import pandas as pd\n",
    "import smtplib\n",
    "from email.mime.multipart import MIMEMultipart\n",
    "from email.mime.text import MIMEText\n",
    "import datetime\n",
    "from dotenv import load_dotenv\n",
    "import os"
   ]
  },
  {
   "cell_type": "code",
   "execution_count": 227,
   "metadata": {},
   "outputs": [],
   "source": [
    "download_path = os.path.join(os.path.expanduser('~'), 'Downloads')"
   ]
  },
  {
   "cell_type": "code",
   "execution_count": 228,
   "metadata": {},
   "outputs": [],
   "source": [
    "file_path = rf\"{download_path}\\Base Consolidada 2025.xlsx\""
   ]
  },
  {
   "cell_type": "code",
   "execution_count": null,
   "metadata": {},
   "outputs": [],
   "source": [
    "email_remetente = \"projetos@polijunior.com.br\"\n",
    "load_dotenv(dotenv_path='.venv/.env')\n",
    "senha = 'projetos.pj'"
   ]
  },
  {
   "cell_type": "code",
   "execution_count": 229,
   "metadata": {},
   "outputs": [],
   "source": [
    "error_log = []"
   ]
  },
  {
   "cell_type": "code",
   "execution_count": 230,
   "metadata": {},
   "outputs": [],
   "source": [
    "def send_email(remetente, destinatario, assunto, corpo, senha):\n",
    "        try:\n",
    "                # Criação da mensagem\n",
    "                msg = MIMEMultipart()\n",
    "                msg['From'] = remetente\n",
    "                msg['To'] = destinatario\n",
    "                msg['Subject'] = assunto\n",
    "\n",
    "                # Corpo do e-mail\n",
    "                msg.attach(MIMEText(corpo, 'html', 'utf-8'))\n",
    "\n",
    "                # Conectar ao servidor SMTP do Gmail\n",
    "                server = smtplib.SMTP('smtp.gmail.com', 587)\n",
    "                server.starttls()  # Encriptação TLS\n",
    "\n",
    "                # Login no servidor\n",
    "                server.login(remetente, senha)\n",
    "\n",
    "                # Envio do e-mail\n",
    "                text = msg.as_string()\n",
    "                server.sendmail(remetente, destinatario, text)\n",
    "\n",
    "                # Encerrar a conexão\n",
    "                server.quit()\n",
    "\n",
    "                print(f\"E-mail enviado com sucesso para {destinatario}\")\n",
    "        except Exception as e:\n",
    "                error_log.append(f\"Falha ao enviar e-mail para {destinatario}: {e}\")"
   ]
  },
  {
   "cell_type": "markdown",
   "metadata": {},
   "source": [
    "# Base Consolidada"
   ]
  },
  {
   "cell_type": "code",
   "execution_count": null,
   "metadata": {},
   "outputs": [],
   "source": [
    "base_consolidada = pd.read_excel(file_path, sheet_name='Base')\n",
    "forms_csat = pd.read_excel(file_path, sheet_name='CSAT Forms')"
   ]
  },
  {
   "cell_type": "code",
   "execution_count": null,
   "metadata": {},
   "outputs": [],
   "source": [
    "# Filtragem de nulls\n",
    "base_consolidada = base_consolidada[base_consolidada['Projeto'].notna()].reset_index(drop=True)"
   ]
  },
  {
   "cell_type": "code",
   "execution_count": null,
   "metadata": {},
   "outputs": [],
   "source": [
    "base_consolidada_exec = base_consolidada[base_consolidada['Status'] == 'Executando'].copy()\n",
    "validadores = base_consolidade_exec[base_consolidade_exec_atual['Validador/Coordenador'].notna()]['Validador/Coordenador'].unique()\n",
    "\n",
    "count = 0\n",
    "for validador in validadores:\n",
    "    corpo_final = ''\n",
    "    projetos_validados_df = base_consolidade_exec[base_consolidade_exec['Validador/Coordenador'] == validador]\n",
    "    if validador == 'enzo.giannoni':\n",
    "        for index, row in projetos_validados_df.iterrows():\n",
    "            projeto = row['Projeto']\n",
    "            portifolio = row['Portfólio']\n",
    "            fim_previsto = row['Fim Previsto']\n",
    "            quantidade_de_semanas_off = row['Semanas OFF']\n",
    "            csat_status = row['CSAT coletado?']\n",
    "            corpo_padrao = f'''\n",
    "            <!DOCTYPE html>\n",
    "            <html lang=\"pt\">\n",
    "            <head>\n",
    "                <meta charset=\"UTF-8\">\n",
    "                <meta name=\"viewport\" content=\"width=device-width, initial-scale=1.0\">\n",
    "            </head>\n",
    "            <corpo>\n",
    "                <h1>Detalhes: {projeto}</h1>\n",
    "                <p><strong>Portfólio:</strong> {portifolio}</p>\n",
    "                <p><strong>Fim previsto:</strong> {fim_previsto}</p>\n",
    "                <p><strong>Quantidade de Semanas Off:</strong> {quantidade_de_semanas_off}</p>\n",
    "            </corpo>\n",
    "            </html>\n",
    "            '''\n",
    "            if csat_status:\n",
    "                csat_df = forms_csat[forms_csat['Projeto'] == projeto]\n",
    "                try:\n",
    "                    csat_comunicacao = csat_df['As atualizações (Comunicação) da equipe a respeito do andamento do projeto tem sido satisfatórias?'].iloc[0]\n",
    "                    csat_qualidade = csat_df['Como você avaliaria a sua satisfação com a qualidade da entrega da Poli Júnior até então? '].iloc[0]\n",
    "                    csat_satisfacao = csat_df['Como você avaliaria a sua satisfação com o trabalho da Poli Júnior como um todo?'].iloc[0]\n",
    "                    feedback = csat_df['Espaço para possíveis feedbacks qualitativos:'].iloc[0]\n",
    "                except IndexError:\n",
    "                    csat_comunicacao = None\n",
    "                    csat_qualidade = None\n",
    "                    csat_satisfacao = None\n",
    "                if csat_comunicacao and csat_qualidade and csat_satisfacao:\n",
    "                    corpo_csat = f''' \n",
    "                    <h2> CSAT </h2>\n",
    "                    <p><strong>Nota de Comunicação:</strong> {csat_comunicacao}</p>\n",
    "                    <p><strong>Nota de Entrega:</strong> {csat_qualidade}</p>\n",
    "                    <p><strong>Nota do Trabalho:</strong> {csat_satisfacao}</p>\n",
    "                    <p><strong>Feedbacks:</strong> {feedback}</p>'''\n",
    "\n",
    "                    corpo_padrao = corpo_padrao + corpo_csat\n",
    "            data_atual = datetime.today().strftime('%Y-%m-%d %H:%M:%S')\n",
    "            if data_atual > fim_previsto:\n",
    "                corpo_msg_atrasado = '''\n",
    "                <corpo>\n",
    "                    <p style=\"color: red; font-weight: bold;\">O PROJETO ESTÁ ATRASADO!</p>\n",
    "                </corpo>\n",
    "                '''\n",
    "                corpo_padrao = corpo_padrao + corpo_msg_atrasado\n",
    "\n",
    "            corpo_final = corpo_final + corpo_padrao\n",
    "    destinatario = validador + '@polijunior.com.br'\n",
    "    send_email(remetente=send_email, destinatario=destinatario, destinatario=destinatario, )\n",
    "    print(validador, projeto, portifolio, fim_previsto, quantidade_de_semanas_off, csat_status, csat_comunicacao, csat_qualidade, csat_satisfacao)\n",
    "    count += 1\n",
    "    if count == 20:\n",
    "        break"
   ]
  }
 ],
 "metadata": {
  "kernelspec": {
   "display_name": "Python 3",
   "language": "python",
   "name": "python3"
  },
  "language_info": {
   "codemirror_mode": {
    "name": "ipython",
    "version": 3
   },
   "file_extension": ".py",
   "mimetype": "text/x-python",
   "name": "python",
   "nbconvert_exporter": "python",
   "pygments_lexer": "ipython3",
   "version": "3.12.6"
  }
 },
 "nbformat": 4,
 "nbformat_minor": 2
}
