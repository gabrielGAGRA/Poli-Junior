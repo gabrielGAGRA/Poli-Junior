{
 "cells": [
  {
   "cell_type": "code",
   "execution_count": 34,
   "metadata": {},
   "outputs": [],
   "source": [
    "import pandas as pd"
   ]
  },
  {
   "cell_type": "code",
   "execution_count": 35,
   "metadata": {},
   "outputs": [],
   "source": [
    "#muda o atalho no que ta entre aspas\n",
    "atalho = r'PAC - Contatos NProd.csv'"
   ]
  },
  {
   "cell_type": "code",
   "execution_count": 36,
   "metadata": {},
   "outputs": [
    {
     "name": "stderr",
     "output_type": "stream",
     "text": [
      "C:\\Users\\gabri\\AppData\\Local\\Temp\\ipykernel_16996\\851568223.py:1: DtypeWarning: Columns (13,14,15,18,19,20,21,22,23) have mixed types. Specify dtype option on import or set low_memory=False.\n",
      "  df = pd.read_csv(atalho)\n"
     ]
    }
   ],
   "source": [
    "df = pd.read_csv(atalho)"
   ]
  },
  {
   "cell_type": "code",
   "execution_count": 37,
   "metadata": {},
   "outputs": [],
   "source": [
    "unique_empresas = df[df['Setor do LinkedIn'] == 'Energy & Environment']['Empresa'].unique()\n",
    "\n",
    "# Create a set to keep track of unique combinations\n",
    "unique_combinations = set()\n",
    "\n",
    "# Create a list of dictionaries with the unique companies and their respective values of 'Semana' and 'Portfólio'\n",
    "unique_companies_info = []\n",
    "for empresa in unique_empresas:\n",
    "    empresa_data = df[df['Empresa'] == empresa]\n",
    "    empresa_data = empresa_data.sort_values(by='Semana', ascending=False)  # Sort by 'Semana' to get the most recent entry\n",
    "    counter = 0\n",
    "    for _, row in empresa_data.iterrows():\n",
    "        counter += 1\n",
    "        combination = (empresa, row['Semana'], row['Portfólio'])\n",
    "        if combination not in unique_combinations:\n",
    "            unique_combinations.add(combination)\n",
    "            unique_companies_info.append({\n",
    "                'Empresa': empresa,\n",
    "                'Semana': row['Semana'],\n",
    "                'Portfólio': row['Portfólio'],\n",
    "                'Vezes': counter\n",
    "            })\n",
    "            break  # Only keep the most recent entry\n",
    "\n",
    "# Convert the list of dictionaries to a DataFrame\n",
    "unique_companies_df = pd.DataFrame(unique_companies_info)\n",
    "\n",
    "# Save the DataFrame to a CSV file\n",
    "unique_companies_df.to_csv('abc.csv', index=False)"
   ]
  }
 ],
 "metadata": {
  "kernelspec": {
   "display_name": "Python 3",
   "language": "python",
   "name": "python3"
  },
  "language_info": {
   "codemirror_mode": {
    "name": "ipython",
    "version": 3
   },
   "file_extension": ".py",
   "mimetype": "text/x-python",
   "name": "python",
   "nbconvert_exporter": "python",
   "pygments_lexer": "ipython3",
   "version": "3.12.6"
  }
 },
 "nbformat": 4,
 "nbformat_minor": 2
}
