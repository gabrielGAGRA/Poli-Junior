{
 "cells": [
  {
   "cell_type": "code",
   "execution_count": null,
   "metadata": {},
   "outputs": [],
   "source": [
    "import pandas as pd\n",
    "import re"
   ]
  },
  {
   "cell_type": "markdown",
   "metadata": {},
   "source": [
    "### MUDE O ATALHO DO CSV AQUI"
   ]
  },
  {
   "cell_type": "code",
   "execution_count": null,
   "metadata": {},
   "outputs": [],
   "source": [
    "#muda o atalho no que ta entre aspas\n",
    "atalho = r'PAC - Contatos NProd.csv'"
   ]
  },
  {
   "cell_type": "markdown",
   "metadata": {},
   "source": [
    "#### Aqui pode mudar as colunas que deseja ver"
   ]
  },
  {
   "cell_type": "code",
   "execution_count": null,
   "metadata": {},
   "outputs": [],
   "source": [
    "colunas = ['Semana', 'STATUS', 'Cargo', 'Portfólio', 'Hunter', 'Empresa']"
   ]
  },
  {
   "cell_type": "code",
   "execution_count": null,
   "metadata": {},
   "outputs": [],
   "source": [
    "def sanitize_input(input_string):\n",
    "    sanitized = re.sub(r'\\s+', ' ', input_string).strip()\n",
    "    sanitized = re.sub(r'[^\\w\\s]', '', sanitized)\n",
    "    return sanitized"
   ]
  },
  {
   "cell_type": "code",
   "execution_count": null,
   "metadata": {},
   "outputs": [],
   "source": [
    "def extract_date(semana_str):\n",
    "    if isinstance(semana_str, str):\n",
    "        match = re.search(r'\\((\\d{2}/\\d{2}/\\d{4})\\)', semana_str)\n",
    "        if match:\n",
    "            return match.group(1)\n",
    "    return None"
   ]
  },
  {
   "cell_type": "code",
   "execution_count": null,
   "metadata": {},
   "outputs": [],
   "source": [
    "data_MMDD = pd.read_csv(\n",
    "    atalho,\n",
    "    usecols=colunas,\n",
    "    low_memory=False,\n",
    "    nrows=50795\n",
    ")"
   ]
  },
  {
   "cell_type": "code",
   "execution_count": null,
   "metadata": {},
   "outputs": [],
   "source": [
    "data_MMDD['Semana_date'] = data_MMDD['Semana'].apply(extract_date)\n",
    "data_MMDD['Semana_mod'] = pd.to_datetime(data_MMDD['Semana_date'], format='%m/%d/%Y', errors='coerce')"
   ]
  },
  {
   "cell_type": "code",
   "execution_count": null,
   "metadata": {},
   "outputs": [],
   "source": [
    "data_DDMM = pd.read_csv(\n",
    "    atalho,\n",
    "    usecols=colunas,\n",
    "    low_memory=False,\n",
    "    skiprows=range(1, 50796),\n",
    "    header=0\n",
    ")"
   ]
  },
  {
   "cell_type": "code",
   "execution_count": null,
   "metadata": {},
   "outputs": [],
   "source": [
    "data_DDMM['Semana_date'] = data_DDMM['Semana'].apply(extract_date)\n",
    "data_DDMM['Semana_mod'] = pd.to_datetime(data_DDMM['Semana_date'], format='%d/%m/%Y', errors='coerce')"
   ]
  },
  {
   "cell_type": "code",
   "execution_count": null,
   "metadata": {},
   "outputs": [],
   "source": [
    "data = pd.concat([data_MMDD, data_DDMM], ignore_index=True)"
   ]
  },
  {
   "cell_type": "code",
   "execution_count": null,
   "metadata": {},
   "outputs": [],
   "source": [
    "from datetime import datetime, timedelta\n",
    "data_hoje = datetime.now()\n",
    "data_maxima = data_hoje - timedelta(days=90)"
   ]
  },
  {
   "cell_type": "code",
   "execution_count": null,
   "metadata": {},
   "outputs": [],
   "source": [
    "import re\n",
    "\n",
    "def clean_string(s):\n",
    "    if isinstance(s, str):\n",
    "        return re.sub(r'[^a-zA-Z0-9\\s&]', '', s).strip().lower()\n",
    "    return ''"
   ]
  },
  {
   "cell_type": "code",
   "execution_count": null,
   "metadata": {},
   "outputs": [],
   "source": [
    "data['Empresa'] = data['Empresa'].apply(clean_string)"
   ]
  },
  {
   "cell_type": "markdown",
   "metadata": {},
   "source": [
    "eh so re-rodar essa celula de baixo, nao precisa rodar todo o codigo toda vez q for pesquisar"
   ]
  },
  {
   "cell_type": "code",
   "execution_count": null,
   "metadata": {},
   "outputs": [],
   "source": [
    "valido = 1\n",
    "\n",
    "nome = clean_string(input('Nome: ')).capitalize()\n",
    "\n",
    "temp = data[pd.notna(data['Empresa']) & data['Empresa'].str.contains(nome, case=False, na=False)]\n",
    "\n",
    "if not temp.empty:\n",
    "    try:\n",
    "        data_mod = temp['Semana_mod'].iloc[-1]\n",
    "        data_original = temp['Semana'].iloc[-1]\n",
    "    except:\n",
    "        pass\n",
    "    \n",
    "    if any(temp['STATUS'].str.contains('projeto', case=False, na=False)):\n",
    "        print(f\"{nome} TEM PROJETO\")\n",
    "    if any(temp['STATUS'].str.contains('lead', case=False, na=False)):\n",
    "        print(f\"{nome} TEM LEAD\")\n",
    "    if data_mod > data_maxima:\n",
    "        print(f\"{nome} foi PROSPECTADO RECENTEMENTE: {data_original}\")\n",
    "        valido = 0\n",
    "    temp = temp.drop(columns=['Semana_mod'])\n",
    "    print(f\"{nome}:\")\n",
    "    if(valido):\n",
    "        print(f\"Última vez prospectado em: {data_original}\")\n",
    "    print(temp.to_string(index=False))\n",
    "else:\n",
    "    print(f\"{nome} nao encontrado\")"
   ]
  }
 ],
 "metadata": {
  "kernelspec": {
   "display_name": "Python 3",
   "language": "python",
   "name": "python3"
  },
  "language_info": {
   "codemirror_mode": {
    "name": "ipython",
    "version": 3
   },
   "file_extension": ".py",
   "mimetype": "text/x-python",
   "name": "python",
   "nbconvert_exporter": "python",
   "pygments_lexer": "ipython3",
   "version": "3.12.3"
  }
 },
 "nbformat": 4,
 "nbformat_minor": 2
}
