{
 "cells": [
  {
   "cell_type": "markdown",
   "metadata": {},
   "source": [
    "### MUDE O ATALHO DO ARQUIVO AQUI"
   ]
  },
  {
   "cell_type": "code",
   "execution_count": 33,
   "metadata": {},
   "outputs": [],
   "source": [
    "#atalho do seu arquivo\n",
    "ATALHO = r'apollo-contacts-export.csv'"
   ]
  },
  {
   "cell_type": "code",
   "execution_count": 34,
   "metadata": {},
   "outputs": [],
   "source": [
    "import pandas as pd\n",
    "import re"
   ]
  },
  {
   "cell_type": "code",
   "execution_count": 35,
   "metadata": {},
   "outputs": [],
   "source": [
    "df = pd.read_csv(ATALHO)"
   ]
  },
  {
   "cell_type": "code",
   "execution_count": 36,
   "metadata": {},
   "outputs": [],
   "source": [
    "# se tiver esses nomes em qualquer parte do nome do cargo, substitui tudo pelo da direita\n",
    "job_title_replacements = [\n",
    "    ('ceo', 'CEO'),\n",
    "    ('chief executive officer', 'CEO'),\n",
    "    ('cdo', 'CDO'),\n",
    "    ('chief data officer', 'CDO'),\n",
    "    ('cto', 'CTO'),\n",
    "    ('chief technology officer', 'CTO'),\n",
    "    ('cio', 'CIO'),    \n",
    "    ('chief information officer', 'CIO'),\n",
    "    ('coo', 'COO'),\n",
    "    ('chief operating officer', 'COO'),\n",
    "    ('cfo', 'CFO'),\n",
    "    ('chief financial officer', 'CFO'),\n",
    "    ('cmo', 'CMO'),\n",
    "    ('chief marketing officer', 'CMO'), \n",
    "    ('cpo', 'CPO'),\n",
    "    ('chief product officer', 'CPO'),\n",
    "    ('cco', 'CCO'),\n",
    "    ('chief compliance officer', 'CCO'),\n",
    "    ('chief', 'Outro C-Level'),\n",
    "    ('Presidente', 'Presidente/Vice Presidente'),\n",
    "    ('vice-presidente', 'Presidente/Vice Presidente'),\n",
    "    ('vice presidente', 'Presidente/Vice Presidente'),\n",
    "    ('president', 'Presidente/Vice Presidente'),\n",
    "    ('vp', 'Presidente/Vice Presidente'),\n",
    "    ('vice-president', 'Presidente/Vice Presidente'),\n",
    "    ('vice president', 'Presidente/Vice Presidente'),\n",
    "    ('Founder', 'Founder/Co-Founder'),\n",
    "    ('fundador', 'Founder/Co-Founder'),\n",
    "    ('co-founder', 'Founder/Co-Founder'),\n",
    "    ('cofounder', 'Founder/Co-Founder'),\n",
    "    ('cofundador', 'Founder/Co-Founder'),\n",
    "    ('head of data', 'Head of Data'),\n",
    "    ('head de dados', 'Head of Data'),\n",
    "    ('data head', 'Head of Data'),\n",
    "    ('head of technology', 'Head de Tecnologia'),\n",
    "    ('head de tecnologia', 'Head de Tecnologia'),\n",
    "    ('technology head', 'Head de Tecnologia'),\n",
    "    ('head de inteligência de mercado', 'Head de Inteligência de Mercado'),\n",
    "    ('head de inteligência de negocios', 'Head de Inteligência de Mercado'),\n",
    "    ('head de BI', 'Head de Inteligência de Mercado'),\n",
    "    ('head of BI', 'Head de Inteligência de Mercado'),\n",
    "    ('head of market intelligence', 'Head de Inteligência de Mercado'),\n",
    "    ('head of business intelligence', 'Head de Inteligência de Mercado'),\n",
    "    ('market intelligence head', 'Head de Inteligência de Mercado'),\n",
    "    ('head of business', 'Head of Business'),\n",
    "    ('head de business', 'Head of Business'),\n",
    "    ('business head', 'Head of Business'),\n",
    "    ('head de operações', 'Head de Operações'),\n",
    "    ('head of operations', 'Head de Operações'),\n",
    "    ('operations head', 'Head de Operações'),\n",
    "    ('head of growth', 'Head of Growth'),\n",
    "    ('head de crescimento', 'Head of Growth'),\n",
    "    ('growth head', 'Head of Growth'),\n",
    "    ('head of logistics/supply chain', 'Head of Logistics/Supply Chain'),\n",
    "    ('head de logística/cadeia de suprimentos', 'Head of Logistics/Supply Chain'),\n",
    "    ('logistics head', 'Head of Logistics/Supply Chain'),\n",
    "    ('supply chain head', 'Head of Logistics/Supply Chain'),\n",
    "    ('head of marketing', 'Head of Marketing'),\n",
    "    ('head de marketing', 'Head of Marketing'),\n",
    "    ('marketing head', 'Head of Marketing'),\n",
    "    ('head of finance', 'Head of Finance'),\n",
    "    ('head de finanças', 'Head of Finance'),\n",
    "    ('finance head', 'Head of Finance'),\n",
    "    ('head de estratégia', 'Head de Estratégia'),\n",
    "    ('head of strategy', 'Head de Estratégia'),\n",
    "    ('strategy head', 'Head de Estratégia'),\n",
    "    ('head de planejamento', 'Head de Planejamento'),\n",
    "    ('head of planning', 'Head de Planejamento'),\n",
    "    ('planning head', 'Head de Planejamento'),\n",
    "    ('head de produto', 'Head de Produto'),\n",
    "    ('head of product', 'Head de Produto'),\n",
    "    ('product head', 'Head de Produto'),\n",
    "    ('head of fp&a', 'Head of FP&A'),\n",
    "    ('head of financial planning and analysis', 'Head of FP&A'),\n",
    "    ('fp&a head', 'Head of FP&A'),\n",
    "    ('head of innovation', 'Head of Innovation'),\n",
    "    ('head de inovação', 'Head of Innovation'),\n",
    "    ('innovation head', 'Head of Innovation'),\n",
    "    ('head', 'Head'),\n",
    "    ('diretor de analytics', 'Diretor de Analytics'),\n",
    "    ('analytics director', 'Diretor de Analytics'),\n",
    "    ('director of analytics', 'Diretor de Analytics'),\n",
    "    ('diretor de tecnologia', 'Diretor de Tecnologia'),\n",
    "    ('director of technology', 'Diretor de Tecnologia'),\n",
    "    ('technology director', 'Diretor de Tecnologia'),\n",
    "    ('diretor administrativo', 'Diretor Administrativo'),\n",
    "    ('diretor de operações', 'Diretor de Operações'),\n",
    "    ('director of operations', 'Diretor de Operações'),\n",
    "    ('operations director', 'Diretor de Operações'),\n",
    "    ('diretor financeiro', 'Diretor Financeiro'),\n",
    "    ('financial director', 'Diretor Financeiro'),\n",
    "    ('finance director', 'Diretor Financeiro'),\n",
    "    ('diretor de marketing', 'Diretor de Marketing'),\n",
    "    ('marketing director', 'Diretor de Marketing'),\n",
    "    ('director of marketing', 'Diretor de Marketing'),\n",
    "    ('diretor de logística/supply chain', 'Diretor de Logística/Supply Chain'),\n",
    "    ('logistics director', 'Diretor de Logística/Supply Chain'),\n",
    "    ('supply chain director', 'Diretor de Logística/Supply Chain'),\n",
    "    ('director of logistics/supply chain', 'Diretor de Logística/Supply Chain'),\n",
    "    ('diretor comercial', 'Diretor Comercial'),\n",
    "    ('commercial director', 'Diretor Comercial'),\n",
    "    ('director of commercial', 'Diretor Comercial'),\n",
    "    ('diretor de inovação', 'Diretor de Inovação'),\n",
    "    ('innovation director', 'Diretor de Inovação'),\n",
    "    ('director of innovation', 'Diretor de Inovação'),\n",
    "    ('diretor de planejamento', 'Diretor de Planejamento'),\n",
    "    ('planning director', 'Diretor de Planejamento'),\n",
    "    ('director of planning', 'Diretor de Planejamento'),\n",
    "    ('diretor de mercado', 'Diretor de Mercado'),\n",
    "    ('market director', 'Diretor de Mercado'),\n",
    "    ('director of market', 'Diretor de Mercado'),\n",
    "    ('diretor de negócios', 'Diretor de Negócios'),\n",
    "    ('business director', 'Diretor de Negócios'),\n",
    "    ('director of business', 'Diretor de Negócios'),\n",
    "    ('diretor de processos', 'Diretor de Processos'),\n",
    "    ('processes director', 'Diretor de Processos'),\n",
    "    ('director of processes', 'Diretor de Processos'),\n",
    "    ('diretor de produto', 'Diretor de Produto'),\n",
    "    ('product director', 'Diretor de Produto'),\n",
    "    ('director of product', 'Diretor de Produto'),\n",
    "    ('diretor executivo', 'Diretor Executivo'),\n",
    "    ('executive director', 'Diretor Executivo'),\n",
    "    ('director of executive', 'Diretor Executivo'),\n",
    "    ('diretor', 'Diretor'),\n",
    "    ('diretora', 'Diretor'),\n",
    "    ('director', 'Diretor'), \n",
    "    ('superintendente', 'Superintendente'),\n",
    "    ('gerente de analytics', 'Gerente de Analytics'),\n",
    "    ('analytics manager', 'Gerente de Analytics'),\n",
    "    ('manager of analytics', 'Gerente de Analytics'),\n",
    "    ('gerente de tecnologia', 'Gerente de Tecnologia'),\n",
    "    ('technology manager', 'Gerente de Tecnologia'),\n",
    "    ('manager of technology', 'Gerente de Tecnologia'),\n",
    "    ('gerente de inteligencia de mercado', 'Gerente de Inteligência de Mercado'),\n",
    "    ('gerente de business intelligence', 'Gerente de Inteligência de Mercado'),\n",
    "    ('gerente de inteligencia', 'Gerente de Inteligência de Mercado'),\n",
    "    ('gerente de BI', 'Gerente de Inteligência de Mercado'),\n",
    "    ('business intelligence manager', 'Gerente de Inteligência de Mercado'),\n",
    "    ('BI manager', 'Gerente de Inteligência de Mercado'),\n",
    "    ('intelligence manager', 'Gerente de Inteligência de Mercado'),\n",
    "    ('manager of business intelligence', 'Gerente de Inteligência de Mercado'),\n",
    "    ('gerente de operações', 'Gerente de Operações'),\n",
    "    ('operations manager', 'Gerente de Operações'),\n",
    "    ('manager of operations', 'Gerente de Operações'),\n",
    "    ('gerente de logística/supply chain', 'Gerente de Logística/Supply Chain'),\n",
    "    ('logistics manager', 'Gerente de Logística/Supply Chain'),\n",
    "    ('supply chain manager', 'Gerente de Logística/Supply Chain'),\n",
    "    ('manager of logistics/supply chain', 'Gerente de Logística/Supply Chain'),\n",
    "    ('gerente de desenvolvimento', 'Gerente de Desenvolvimento'),\n",
    "    ('development manager', 'Gerente de Desenvolvimento'),\n",
    "    ('manager of development', 'Gerente de Desenvolvimento'),\n",
    "    ('gerente de estratégia', 'Gerente de Estratégia'),\n",
    "    ('strategy manager', 'Gerente de Estratégia'),\n",
    "    ('manager of strategy', 'Gerente de Estratégia'),\n",
    "    ('gerente de facilities', 'Gerente de Facilities'),\n",
    "    ('facilities manager', 'Gerente de Facilities'),\n",
    "    ('manager of facilities', 'Gerente de Facilities'),\n",
    "    ('gerente de inovação', 'Gerente de Inovação'),\n",
    "    ('innovation manager', 'Gerente de Inovação'),\n",
    "    ('manager of innovation', 'Gerente de Inovação'),\n",
    "    ('gerente de marketing', 'Gerente de Marketing'),\n",
    "    ('marketing manager', 'Gerente de Marketing'),\n",
    "    ('manager of marketing', 'Gerente de Marketing'),\n",
    "    ('gerente de negócios', 'Gerente de Negócios'),\n",
    "    ('business manager', 'Gerente de Negócios'),\n",
    "    ('manager of business', 'Gerente de Negócios'),\n",
    "    ('gerente de planejamento', 'Gerente de Planejamento'),\n",
    "    ('planning manager', 'Gerente de Planejamento'),\n",
    "    ('manager of planning', 'Gerente de Planejamento'),\n",
    "    ('gerente de produto', 'Gerente de Produto'),\n",
    "    ('product manager', 'Gerente de Produto'),\n",
    "    ('manager of product', 'Gerente de Produto'),\n",
    "    ('manager', 'Gerente'), \n",
    "    ('gerente', 'Gerente'),\n",
    "    ('Project Management Officer', 'PMO'),\n",
    "    ('Project Management', 'PMO'),\n",
    "]"
   ]
  },
  {
   "cell_type": "code",
   "execution_count": 37,
   "metadata": {},
   "outputs": [],
   "source": [
    "def replace_job_titles(title):\n",
    "    for pattern, replacement in job_title_replacements:\n",
    "        if re.search(pattern, title, re.IGNORECASE):\n",
    "            return replacement\n",
    "    #return title / return 'Outros'\n",
    "    return 'Outros'"
   ]
  },
  {
   "cell_type": "code",
   "execution_count": 38,
   "metadata": {},
   "outputs": [],
   "source": [
    "df['Title'] = df['Title'].apply(replace_job_titles)"
   ]
  },
  {
   "cell_type": "code",
   "execution_count": 39,
   "metadata": {},
   "outputs": [],
   "source": [
    "df['Name'] = df['First Name'] + ' ' + df['Last Name']\n",
    "df.drop(['First Name', 'Last Name'], axis=1, inplace=True)"
   ]
  },
  {
   "cell_type": "code",
   "execution_count": 40,
   "metadata": {},
   "outputs": [],
   "source": [
    "df['Prospeccao'] = df['Email'].apply(lambda x: 'E-mail' if pd.notna(x) else 'Linkedin')"
   ]
  },
  {
   "cell_type": "code",
   "execution_count": 41,
   "metadata": {},
   "outputs": [],
   "source": [
    "df['Status'] = df['Replied'].apply(lambda x: \"Contato Respondido\" if x == True else \"Não Respondeu\")"
   ]
  },
  {
   "cell_type": "markdown",
   "metadata": {},
   "source": [
    "### MUDE SEU ID PJ"
   ]
  },
  {
   "cell_type": "code",
   "execution_count": 42,
   "metadata": {},
   "outputs": [],
   "source": [
    "hunter = 'gabrial.agra'\n",
    "df['Hunter'] = hunter"
   ]
  },
  {
   "cell_type": "code",
   "execution_count": 43,
   "metadata": {},
   "outputs": [],
   "source": [
    "portfolio = 'Analytics'\n",
    "df['Portfolio'] = portfolio"
   ]
  },
  {
   "cell_type": "code",
   "execution_count": 44,
   "metadata": {},
   "outputs": [],
   "source": [
    "df['Semana'] = ''"
   ]
  },
  {
   "cell_type": "code",
   "execution_count": 45,
   "metadata": {},
   "outputs": [],
   "source": [
    "#ordena as colunas\n",
    "columns_order = ['Semana', 'Company', 'Industry', '# Employees', 'Name', 'Title', 'Email', 'Prospeccao', 'Status', 'Hunter', 'Portfolio']"
   ]
  },
  {
   "cell_type": "code",
   "execution_count": 46,
   "metadata": {},
   "outputs": [],
   "source": [
    "df = df[columns_order].sort_values(by='Company')"
   ]
  },
  {
   "cell_type": "code",
   "execution_count": 47,
   "metadata": {},
   "outputs": [],
   "source": [
    "ATALHO = ATALHO.replace('.csv', '(1).xlsx')"
   ]
  },
  {
   "cell_type": "code",
   "execution_count": 48,
   "metadata": {},
   "outputs": [],
   "source": [
    "df.to_excel(ATALHO)"
   ]
  }
 ],
 "metadata": {
  "kernelspec": {
   "display_name": "Python 3",
   "language": "python",
   "name": "python3"
  },
  "language_info": {
   "codemirror_mode": {
    "name": "ipython",
    "version": 3
   },
   "file_extension": ".py",
   "mimetype": "text/x-python",
   "name": "python",
   "nbconvert_exporter": "python",
   "pygments_lexer": "ipython3",
   "version": "3.12.3"
  }
 },
 "nbformat": 4,
 "nbformat_minor": 2
}
